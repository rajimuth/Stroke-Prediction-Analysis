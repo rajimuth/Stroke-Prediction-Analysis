{
 "cells": [
  {
   "cell_type": "code",
   "execution_count": 4,
   "id": "511ee6ca",
   "metadata": {},
   "outputs": [],
   "source": [
    "# Importing dependencies\n",
    "import pandas as pd\n",
    "import hvplot.pandas\n",
    "from path import Path\n",
    "import plotly.express as px\n",
    "from sklearn.preprocessing import StandardScaler\n",
    "from sklearn.decomposition import PCA\n",
    "from sklearn.cluster import KMeans"
   ]
  },
  {
   "cell_type": "code",
   "execution_count": 5,
   "id": "50cf7b99",
   "metadata": {},
   "outputs": [],
   "source": [
    "from sklearn.preprocessing import MinMaxScaler"
   ]
  },
  {
   "cell_type": "code",
   "execution_count": null,
   "id": "85430ea0",
   "metadata": {},
   "outputs": [],
   "source": [
    "# Remove \"ID\" column\n",
    "stroke_all_df= stroke_df.drop(\"id\",axis=1)\n",
    "stroke_all_df.head()"
   ]
  },
  {
   "cell_type": "code",
   "execution_count": null,
   "id": "e9e12dda",
   "metadata": {},
   "outputs": [],
   "source": [
    "# Rename Column Names\n",
    "column =[\"Gender\",\"Age\",\"Hypertension\",\"Heart_Disease\",\"Ever_Married\",\"Work_Type\",\"Residence_Type\",\"Average_Glucoce\",\"BMI\",\"Smoking_Status\",\"Stroke\"]\n",
    "stroke_all_df.columns=column\n",
    "stroke_all_df.head()"
   ]
  },
  {
   "cell_type": "code",
   "execution_count": null,
   "id": "8a90e021",
   "metadata": {},
   "outputs": [],
   "source": [
    "# Look for NAN\n",
    "stroke_all_df.isnull().values.sum()"
   ]
  },
  {
   "cell_type": "code",
   "execution_count": null,
   "id": "1a755e6e",
   "metadata": {},
   "outputs": [],
   "source": [
    "# NAN count in each column\n",
    "stroke_all_df[column].isnull().sum()"
   ]
  },
  {
   "cell_type": "code",
   "execution_count": null,
   "id": "8275b69a",
   "metadata": {},
   "outputs": [],
   "source": [
    "# Drop BMI NAN values from stroke_all_df\n",
    "stroke_df = stroke_all_df.dropna()"
   ]
  },
  {
   "cell_type": "code",
   "execution_count": null,
   "id": "2064a23d",
   "metadata": {},
   "outputs": [],
   "source": [
    "# NAN count in the new dataframe stroke_df\n",
    "stroke_df[column].isnull().sum()"
   ]
  },
  {
   "cell_type": "code",
   "execution_count": null,
   "id": "fe756d61",
   "metadata": {},
   "outputs": [],
   "source": [
    "# Shape of the new dataframe stroke_df\n",
    "stroke_df.shape"
   ]
  },
  {
   "cell_type": "code",
   "execution_count": null,
   "id": "19a15d92",
   "metadata": {},
   "outputs": [],
   "source": [
    "# Look for datatypes\n",
    "stroke_df.dtypes"
   ]
  },
  {
   "cell_type": "code",
   "execution_count": null,
   "id": "af1e9637",
   "metadata": {},
   "outputs": [],
   "source": [
    "# Storing the stroke_df with NaN rows removed as a separate CSV\n",
    "stroke_df.to_csv(\"stroke_no_NaN.csv\")"
   ]
  }
 ],
 "metadata": {
  "kernelspec": {
   "display_name": "Python (mlenv)",
   "language": "python",
   "name": "mlenv"
  },
  "language_info": {
   "codemirror_mode": {
    "name": "ipython",
    "version": 3
   },
   "file_extension": ".py",
   "mimetype": "text/x-python",
   "name": "python",
   "nbconvert_exporter": "python",
   "pygments_lexer": "ipython3",
   "version": "3.7.11"
  }
 },
 "nbformat": 4,
 "nbformat_minor": 5
}
