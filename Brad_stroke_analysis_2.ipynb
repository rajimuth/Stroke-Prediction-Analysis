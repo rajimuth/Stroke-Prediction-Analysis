{
 "cells": [
  {
   "cell_type": "code",
   "execution_count": 5,
   "id": "7a42b97e",
   "metadata": {},
   "outputs": [],
   "source": [
    "# Importing dependencies\n",
    "import pandas as pd\n",
    "#import hvplot.pandas\n",
    "from path import Path\n",
    "import plotly.express as px\n",
    "from sklearn.linear_model import LinearRegression\n",
    "from sklearn.linear_model import LogisticRegression\n",
    "from sklearn.datasets import make_classification\n",
    "from sklearn.ensemble import RandomForestClassifier\n",
    "from sklearn.datasets import make_blobs\n",
    "from sklearn.model_selection import train_test_split\n",
    "from sklearn.preprocessing import StandardScaler,OneHotEncoder\n",
    "from sklearn.metrics import confusion_matrix, accuracy_score, classification_report\n",
    "import tensorflow as tf\n",
    "from sklearn.decomposition import PCA\n",
    "from sklearn.cluster import KMeans\n",
    "%matplotlib inline\n",
    "import matplotlib.pyplot as plt\n",
    "import numpy as np\n",
    "import seaborn as sns"
   ]
  },
  {
   "cell_type": "code",
   "execution_count": 7,
   "id": "a0af41ea",
   "metadata": {},
   "outputs": [],
   "source": [
    "#pip install tensorflow"
   ]
  },
  {
   "cell_type": "code",
   "execution_count": 7,
   "id": "6191d4e0",
   "metadata": {},
   "outputs": [],
   "source": [
    "from sklearn.preprocessing import MinMaxScaler"
   ]
  },
  {
   "cell_type": "code",
   "execution_count": 8,
   "id": "565bb93b",
   "metadata": {},
   "outputs": [],
   "source": [
    "import pandas as pd"
   ]
  },
  {
   "cell_type": "code",
   "execution_count": 13,
   "id": "5a43564e",
   "metadata": {},
   "outputs": [
    {
     "name": "stdout",
     "output_type": "stream",
     "text": [
      "(5110, 12)\n"
     ]
    },
    {
     "data": {
      "text/html": [
       "<div>\n",
       "<style scoped>\n",
       "    .dataframe tbody tr th:only-of-type {\n",
       "        vertical-align: middle;\n",
       "    }\n",
       "\n",
       "    .dataframe tbody tr th {\n",
       "        vertical-align: top;\n",
       "    }\n",
       "\n",
       "    .dataframe thead th {\n",
       "        text-align: right;\n",
       "    }\n",
       "</style>\n",
       "<table border=\"1\" class=\"dataframe\">\n",
       "  <thead>\n",
       "    <tr style=\"text-align: right;\">\n",
       "      <th></th>\n",
       "      <th>id</th>\n",
       "      <th>gender</th>\n",
       "      <th>age</th>\n",
       "      <th>hypertension</th>\n",
       "      <th>heart_disease</th>\n",
       "      <th>ever_married</th>\n",
       "      <th>work_type</th>\n",
       "      <th>Residence_type</th>\n",
       "      <th>avg_glucose_level</th>\n",
       "      <th>bmi</th>\n",
       "      <th>smoking_status</th>\n",
       "      <th>stroke</th>\n",
       "    </tr>\n",
       "  </thead>\n",
       "  <tbody>\n",
       "    <tr>\n",
       "      <th>0</th>\n",
       "      <td>9046</td>\n",
       "      <td>Male</td>\n",
       "      <td>67.0</td>\n",
       "      <td>0</td>\n",
       "      <td>1</td>\n",
       "      <td>Yes</td>\n",
       "      <td>Private</td>\n",
       "      <td>Urban</td>\n",
       "      <td>228.69</td>\n",
       "      <td>36.6</td>\n",
       "      <td>formerly smoked</td>\n",
       "      <td>1</td>\n",
       "    </tr>\n",
       "    <tr>\n",
       "      <th>1</th>\n",
       "      <td>51676</td>\n",
       "      <td>Female</td>\n",
       "      <td>61.0</td>\n",
       "      <td>0</td>\n",
       "      <td>0</td>\n",
       "      <td>Yes</td>\n",
       "      <td>Self-employed</td>\n",
       "      <td>Rural</td>\n",
       "      <td>202.21</td>\n",
       "      <td>NaN</td>\n",
       "      <td>never smoked</td>\n",
       "      <td>1</td>\n",
       "    </tr>\n",
       "    <tr>\n",
       "      <th>2</th>\n",
       "      <td>31112</td>\n",
       "      <td>Male</td>\n",
       "      <td>80.0</td>\n",
       "      <td>0</td>\n",
       "      <td>1</td>\n",
       "      <td>Yes</td>\n",
       "      <td>Private</td>\n",
       "      <td>Rural</td>\n",
       "      <td>105.92</td>\n",
       "      <td>32.5</td>\n",
       "      <td>never smoked</td>\n",
       "      <td>1</td>\n",
       "    </tr>\n",
       "    <tr>\n",
       "      <th>3</th>\n",
       "      <td>60182</td>\n",
       "      <td>Female</td>\n",
       "      <td>49.0</td>\n",
       "      <td>0</td>\n",
       "      <td>0</td>\n",
       "      <td>Yes</td>\n",
       "      <td>Private</td>\n",
       "      <td>Urban</td>\n",
       "      <td>171.23</td>\n",
       "      <td>34.4</td>\n",
       "      <td>smokes</td>\n",
       "      <td>1</td>\n",
       "    </tr>\n",
       "    <tr>\n",
       "      <th>4</th>\n",
       "      <td>1665</td>\n",
       "      <td>Female</td>\n",
       "      <td>79.0</td>\n",
       "      <td>1</td>\n",
       "      <td>0</td>\n",
       "      <td>Yes</td>\n",
       "      <td>Self-employed</td>\n",
       "      <td>Rural</td>\n",
       "      <td>174.12</td>\n",
       "      <td>24.0</td>\n",
       "      <td>never smoked</td>\n",
       "      <td>1</td>\n",
       "    </tr>\n",
       "    <tr>\n",
       "      <th>5</th>\n",
       "      <td>56669</td>\n",
       "      <td>Male</td>\n",
       "      <td>81.0</td>\n",
       "      <td>0</td>\n",
       "      <td>0</td>\n",
       "      <td>Yes</td>\n",
       "      <td>Private</td>\n",
       "      <td>Urban</td>\n",
       "      <td>186.21</td>\n",
       "      <td>29.0</td>\n",
       "      <td>formerly smoked</td>\n",
       "      <td>1</td>\n",
       "    </tr>\n",
       "    <tr>\n",
       "      <th>6</th>\n",
       "      <td>53882</td>\n",
       "      <td>Male</td>\n",
       "      <td>74.0</td>\n",
       "      <td>1</td>\n",
       "      <td>1</td>\n",
       "      <td>Yes</td>\n",
       "      <td>Private</td>\n",
       "      <td>Rural</td>\n",
       "      <td>70.09</td>\n",
       "      <td>27.4</td>\n",
       "      <td>never smoked</td>\n",
       "      <td>1</td>\n",
       "    </tr>\n",
       "    <tr>\n",
       "      <th>7</th>\n",
       "      <td>10434</td>\n",
       "      <td>Female</td>\n",
       "      <td>69.0</td>\n",
       "      <td>0</td>\n",
       "      <td>0</td>\n",
       "      <td>No</td>\n",
       "      <td>Private</td>\n",
       "      <td>Urban</td>\n",
       "      <td>94.39</td>\n",
       "      <td>22.8</td>\n",
       "      <td>never smoked</td>\n",
       "      <td>1</td>\n",
       "    </tr>\n",
       "    <tr>\n",
       "      <th>8</th>\n",
       "      <td>27419</td>\n",
       "      <td>Female</td>\n",
       "      <td>59.0</td>\n",
       "      <td>0</td>\n",
       "      <td>0</td>\n",
       "      <td>Yes</td>\n",
       "      <td>Private</td>\n",
       "      <td>Rural</td>\n",
       "      <td>76.15</td>\n",
       "      <td>NaN</td>\n",
       "      <td>Unknown</td>\n",
       "      <td>1</td>\n",
       "    </tr>\n",
       "    <tr>\n",
       "      <th>9</th>\n",
       "      <td>60491</td>\n",
       "      <td>Female</td>\n",
       "      <td>78.0</td>\n",
       "      <td>0</td>\n",
       "      <td>0</td>\n",
       "      <td>Yes</td>\n",
       "      <td>Private</td>\n",
       "      <td>Urban</td>\n",
       "      <td>58.57</td>\n",
       "      <td>24.2</td>\n",
       "      <td>Unknown</td>\n",
       "      <td>1</td>\n",
       "    </tr>\n",
       "  </tbody>\n",
       "</table>\n",
       "</div>"
      ],
      "text/plain": [
       "      id  gender   age  hypertension  heart_disease ever_married  \\\n",
       "0   9046    Male  67.0             0              1          Yes   \n",
       "1  51676  Female  61.0             0              0          Yes   \n",
       "2  31112    Male  80.0             0              1          Yes   \n",
       "3  60182  Female  49.0             0              0          Yes   \n",
       "4   1665  Female  79.0             1              0          Yes   \n",
       "5  56669    Male  81.0             0              0          Yes   \n",
       "6  53882    Male  74.0             1              1          Yes   \n",
       "7  10434  Female  69.0             0              0           No   \n",
       "8  27419  Female  59.0             0              0          Yes   \n",
       "9  60491  Female  78.0             0              0          Yes   \n",
       "\n",
       "       work_type Residence_type  avg_glucose_level   bmi   smoking_status  \\\n",
       "0        Private          Urban             228.69  36.6  formerly smoked   \n",
       "1  Self-employed          Rural             202.21   NaN     never smoked   \n",
       "2        Private          Rural             105.92  32.5     never smoked   \n",
       "3        Private          Urban             171.23  34.4           smokes   \n",
       "4  Self-employed          Rural             174.12  24.0     never smoked   \n",
       "5        Private          Urban             186.21  29.0  formerly smoked   \n",
       "6        Private          Rural              70.09  27.4     never smoked   \n",
       "7        Private          Urban              94.39  22.8     never smoked   \n",
       "8        Private          Rural              76.15   NaN          Unknown   \n",
       "9        Private          Urban              58.57  24.2          Unknown   \n",
       "\n",
       "   stroke  \n",
       "0       1  \n",
       "1       1  \n",
       "2       1  \n",
       "3       1  \n",
       "4       1  \n",
       "5       1  \n",
       "6       1  \n",
       "7       1  \n",
       "8       1  \n",
       "9       1  "
      ]
     },
     "execution_count": 13,
     "metadata": {},
     "output_type": "execute_result"
    }
   ],
   "source": [
    "# Load the crypto_data.csv dataset.\n",
    "file_path=(\"../Stroke-Prediction-Analysis/healthcare-dataset-stroke-data.csv\")\n",
    "stroke_df= pd.read_csv(file_path)\n",
    "print(stroke_df.shape)\n",
    "stroke_df.head(10)"
   ]
  },
  {
   "cell_type": "code",
   "execution_count": 14,
   "id": "acf2ff44",
   "metadata": {},
   "outputs": [
    {
     "data": {
      "text/html": [
       "<div>\n",
       "<style scoped>\n",
       "    .dataframe tbody tr th:only-of-type {\n",
       "        vertical-align: middle;\n",
       "    }\n",
       "\n",
       "    .dataframe tbody tr th {\n",
       "        vertical-align: top;\n",
       "    }\n",
       "\n",
       "    .dataframe thead th {\n",
       "        text-align: right;\n",
       "    }\n",
       "</style>\n",
       "<table border=\"1\" class=\"dataframe\">\n",
       "  <thead>\n",
       "    <tr style=\"text-align: right;\">\n",
       "      <th></th>\n",
       "      <th>gender</th>\n",
       "      <th>age</th>\n",
       "      <th>hypertension</th>\n",
       "      <th>heart_disease</th>\n",
       "      <th>ever_married</th>\n",
       "      <th>work_type</th>\n",
       "      <th>Residence_type</th>\n",
       "      <th>avg_glucose_level</th>\n",
       "      <th>bmi</th>\n",
       "      <th>smoking_status</th>\n",
       "      <th>stroke</th>\n",
       "    </tr>\n",
       "  </thead>\n",
       "  <tbody>\n",
       "    <tr>\n",
       "      <th>0</th>\n",
       "      <td>Male</td>\n",
       "      <td>67.0</td>\n",
       "      <td>0</td>\n",
       "      <td>1</td>\n",
       "      <td>Yes</td>\n",
       "      <td>Private</td>\n",
       "      <td>Urban</td>\n",
       "      <td>228.69</td>\n",
       "      <td>36.6</td>\n",
       "      <td>formerly smoked</td>\n",
       "      <td>1</td>\n",
       "    </tr>\n",
       "    <tr>\n",
       "      <th>1</th>\n",
       "      <td>Female</td>\n",
       "      <td>61.0</td>\n",
       "      <td>0</td>\n",
       "      <td>0</td>\n",
       "      <td>Yes</td>\n",
       "      <td>Self-employed</td>\n",
       "      <td>Rural</td>\n",
       "      <td>202.21</td>\n",
       "      <td>NaN</td>\n",
       "      <td>never smoked</td>\n",
       "      <td>1</td>\n",
       "    </tr>\n",
       "    <tr>\n",
       "      <th>2</th>\n",
       "      <td>Male</td>\n",
       "      <td>80.0</td>\n",
       "      <td>0</td>\n",
       "      <td>1</td>\n",
       "      <td>Yes</td>\n",
       "      <td>Private</td>\n",
       "      <td>Rural</td>\n",
       "      <td>105.92</td>\n",
       "      <td>32.5</td>\n",
       "      <td>never smoked</td>\n",
       "      <td>1</td>\n",
       "    </tr>\n",
       "    <tr>\n",
       "      <th>3</th>\n",
       "      <td>Female</td>\n",
       "      <td>49.0</td>\n",
       "      <td>0</td>\n",
       "      <td>0</td>\n",
       "      <td>Yes</td>\n",
       "      <td>Private</td>\n",
       "      <td>Urban</td>\n",
       "      <td>171.23</td>\n",
       "      <td>34.4</td>\n",
       "      <td>smokes</td>\n",
       "      <td>1</td>\n",
       "    </tr>\n",
       "    <tr>\n",
       "      <th>4</th>\n",
       "      <td>Female</td>\n",
       "      <td>79.0</td>\n",
       "      <td>1</td>\n",
       "      <td>0</td>\n",
       "      <td>Yes</td>\n",
       "      <td>Self-employed</td>\n",
       "      <td>Rural</td>\n",
       "      <td>174.12</td>\n",
       "      <td>24.0</td>\n",
       "      <td>never smoked</td>\n",
       "      <td>1</td>\n",
       "    </tr>\n",
       "  </tbody>\n",
       "</table>\n",
       "</div>"
      ],
      "text/plain": [
       "   gender   age  hypertension  heart_disease ever_married      work_type  \\\n",
       "0    Male  67.0             0              1          Yes        Private   \n",
       "1  Female  61.0             0              0          Yes  Self-employed   \n",
       "2    Male  80.0             0              1          Yes        Private   \n",
       "3  Female  49.0             0              0          Yes        Private   \n",
       "4  Female  79.0             1              0          Yes  Self-employed   \n",
       "\n",
       "  Residence_type  avg_glucose_level   bmi   smoking_status  stroke  \n",
       "0          Urban             228.69  36.6  formerly smoked       1  \n",
       "1          Rural             202.21   NaN     never smoked       1  \n",
       "2          Rural             105.92  32.5     never smoked       1  \n",
       "3          Urban             171.23  34.4           smokes       1  \n",
       "4          Rural             174.12  24.0     never smoked       1  "
      ]
     },
     "execution_count": 14,
     "metadata": {},
     "output_type": "execute_result"
    }
   ],
   "source": [
    "# Remove \"ID\" column\n",
    "stroke_all_df= stroke_df.drop(\"id\",axis=1)\n",
    "stroke_all_df.head()"
   ]
  },
  {
   "cell_type": "code",
   "execution_count": 15,
   "id": "c49da86c",
   "metadata": {},
   "outputs": [
    {
     "data": {
      "text/html": [
       "<div>\n",
       "<style scoped>\n",
       "    .dataframe tbody tr th:only-of-type {\n",
       "        vertical-align: middle;\n",
       "    }\n",
       "\n",
       "    .dataframe tbody tr th {\n",
       "        vertical-align: top;\n",
       "    }\n",
       "\n",
       "    .dataframe thead th {\n",
       "        text-align: right;\n",
       "    }\n",
       "</style>\n",
       "<table border=\"1\" class=\"dataframe\">\n",
       "  <thead>\n",
       "    <tr style=\"text-align: right;\">\n",
       "      <th></th>\n",
       "      <th>Gender</th>\n",
       "      <th>Age</th>\n",
       "      <th>Hypertension</th>\n",
       "      <th>Heart_Disease</th>\n",
       "      <th>Ever_Married</th>\n",
       "      <th>Work_Type</th>\n",
       "      <th>Residence_Type</th>\n",
       "      <th>Average_Glucose</th>\n",
       "      <th>BMI</th>\n",
       "      <th>Smoking_Status</th>\n",
       "      <th>Stroke</th>\n",
       "    </tr>\n",
       "  </thead>\n",
       "  <tbody>\n",
       "    <tr>\n",
       "      <th>0</th>\n",
       "      <td>Male</td>\n",
       "      <td>67.0</td>\n",
       "      <td>0</td>\n",
       "      <td>1</td>\n",
       "      <td>Yes</td>\n",
       "      <td>Private</td>\n",
       "      <td>Urban</td>\n",
       "      <td>228.69</td>\n",
       "      <td>36.6</td>\n",
       "      <td>formerly smoked</td>\n",
       "      <td>1</td>\n",
       "    </tr>\n",
       "    <tr>\n",
       "      <th>1</th>\n",
       "      <td>Female</td>\n",
       "      <td>61.0</td>\n",
       "      <td>0</td>\n",
       "      <td>0</td>\n",
       "      <td>Yes</td>\n",
       "      <td>Self-employed</td>\n",
       "      <td>Rural</td>\n",
       "      <td>202.21</td>\n",
       "      <td>NaN</td>\n",
       "      <td>never smoked</td>\n",
       "      <td>1</td>\n",
       "    </tr>\n",
       "    <tr>\n",
       "      <th>2</th>\n",
       "      <td>Male</td>\n",
       "      <td>80.0</td>\n",
       "      <td>0</td>\n",
       "      <td>1</td>\n",
       "      <td>Yes</td>\n",
       "      <td>Private</td>\n",
       "      <td>Rural</td>\n",
       "      <td>105.92</td>\n",
       "      <td>32.5</td>\n",
       "      <td>never smoked</td>\n",
       "      <td>1</td>\n",
       "    </tr>\n",
       "    <tr>\n",
       "      <th>3</th>\n",
       "      <td>Female</td>\n",
       "      <td>49.0</td>\n",
       "      <td>0</td>\n",
       "      <td>0</td>\n",
       "      <td>Yes</td>\n",
       "      <td>Private</td>\n",
       "      <td>Urban</td>\n",
       "      <td>171.23</td>\n",
       "      <td>34.4</td>\n",
       "      <td>smokes</td>\n",
       "      <td>1</td>\n",
       "    </tr>\n",
       "    <tr>\n",
       "      <th>4</th>\n",
       "      <td>Female</td>\n",
       "      <td>79.0</td>\n",
       "      <td>1</td>\n",
       "      <td>0</td>\n",
       "      <td>Yes</td>\n",
       "      <td>Self-employed</td>\n",
       "      <td>Rural</td>\n",
       "      <td>174.12</td>\n",
       "      <td>24.0</td>\n",
       "      <td>never smoked</td>\n",
       "      <td>1</td>\n",
       "    </tr>\n",
       "  </tbody>\n",
       "</table>\n",
       "</div>"
      ],
      "text/plain": [
       "   Gender   Age  Hypertension  Heart_Disease Ever_Married      Work_Type  \\\n",
       "0    Male  67.0             0              1          Yes        Private   \n",
       "1  Female  61.0             0              0          Yes  Self-employed   \n",
       "2    Male  80.0             0              1          Yes        Private   \n",
       "3  Female  49.0             0              0          Yes        Private   \n",
       "4  Female  79.0             1              0          Yes  Self-employed   \n",
       "\n",
       "  Residence_Type  Average_Glucose   BMI   Smoking_Status  Stroke  \n",
       "0          Urban           228.69  36.6  formerly smoked       1  \n",
       "1          Rural           202.21   NaN     never smoked       1  \n",
       "2          Rural           105.92  32.5     never smoked       1  \n",
       "3          Urban           171.23  34.4           smokes       1  \n",
       "4          Rural           174.12  24.0     never smoked       1  "
      ]
     },
     "execution_count": 15,
     "metadata": {},
     "output_type": "execute_result"
    }
   ],
   "source": [
    "# Rename Column Names\n",
    "column =[\"Gender\",\"Age\",\"Hypertension\",\"Heart_Disease\",\"Ever_Married\",\"Work_Type\",\"Residence_Type\",\"Average_Glucose\",\"BMI\",\"Smoking_Status\",\"Stroke\"]\n",
    "stroke_all_df.columns=column\n",
    "stroke_all_df.head()"
   ]
  },
  {
   "cell_type": "code",
   "execution_count": 16,
   "id": "cbad13f4",
   "metadata": {},
   "outputs": [
    {
     "data": {
      "text/plain": [
       "201"
      ]
     },
     "execution_count": 16,
     "metadata": {},
     "output_type": "execute_result"
    }
   ],
   "source": [
    "# Look for NAN\n",
    "stroke_all_df.isnull().values.sum()"
   ]
  },
  {
   "cell_type": "code",
   "execution_count": 17,
   "id": "e7d05dae",
   "metadata": {},
   "outputs": [
    {
     "data": {
      "text/plain": [
       "Gender               0\n",
       "Age                  0\n",
       "Hypertension         0\n",
       "Heart_Disease        0\n",
       "Ever_Married         0\n",
       "Work_Type            0\n",
       "Residence_Type       0\n",
       "Average_Glucose      0\n",
       "BMI                201\n",
       "Smoking_Status       0\n",
       "Stroke               0\n",
       "dtype: int64"
      ]
     },
     "execution_count": 17,
     "metadata": {},
     "output_type": "execute_result"
    }
   ],
   "source": [
    "# NAN count in each column\n",
    "stroke_all_df[column].isnull().sum()"
   ]
  },
  {
   "cell_type": "code",
   "execution_count": 18,
   "id": "78a787fe",
   "metadata": {},
   "outputs": [],
   "source": [
    "# Drop BMI NAN values from stroke_all_df\n",
    "stroke_df = stroke_all_df.dropna()"
   ]
  },
  {
   "cell_type": "code",
   "execution_count": 19,
   "id": "74dca9a1",
   "metadata": {},
   "outputs": [
    {
     "data": {
      "text/plain": [
       "Gender             0\n",
       "Age                0\n",
       "Hypertension       0\n",
       "Heart_Disease      0\n",
       "Ever_Married       0\n",
       "Work_Type          0\n",
       "Residence_Type     0\n",
       "Average_Glucose    0\n",
       "BMI                0\n",
       "Smoking_Status     0\n",
       "Stroke             0\n",
       "dtype: int64"
      ]
     },
     "execution_count": 19,
     "metadata": {},
     "output_type": "execute_result"
    }
   ],
   "source": [
    "# NAN count in the new dataframe stroke_df\n",
    "stroke_df[column].isnull().sum()"
   ]
  },
  {
   "cell_type": "code",
   "execution_count": 20,
   "id": "b9c8c388",
   "metadata": {},
   "outputs": [
    {
     "data": {
      "text/plain": [
       "(4909, 11)"
      ]
     },
     "execution_count": 20,
     "metadata": {},
     "output_type": "execute_result"
    }
   ],
   "source": [
    "# Shape of the new dataframe stroke_df\n",
    "stroke_df.shape"
   ]
  },
  {
   "cell_type": "code",
   "execution_count": 21,
   "id": "cf4f43a2",
   "metadata": {},
   "outputs": [
    {
     "data": {
      "text/plain": [
       "Gender              object\n",
       "Age                float64\n",
       "Hypertension         int64\n",
       "Heart_Disease        int64\n",
       "Ever_Married        object\n",
       "Work_Type           object\n",
       "Residence_Type      object\n",
       "Average_Glucose    float64\n",
       "BMI                float64\n",
       "Smoking_Status      object\n",
       "Stroke               int64\n",
       "dtype: object"
      ]
     },
     "execution_count": 21,
     "metadata": {},
     "output_type": "execute_result"
    }
   ],
   "source": [
    "# Look for datatypes\n",
    "stroke_df.dtypes"
   ]
  },
  {
   "cell_type": "code",
   "execution_count": 22,
   "id": "35f56551",
   "metadata": {},
   "outputs": [],
   "source": [
    "# Storing the stroke_df with NaN rows removed as a separate CSV\n",
    "stroke_df.to_csv(\"stroke_no_NaN.csv\")"
   ]
  },
  {
   "cell_type": "code",
   "execution_count": 23,
   "id": "da2bd38d",
   "metadata": {},
   "outputs": [
    {
     "data": {
      "text/plain": [
       "Female    2897\n",
       "Male      2011\n",
       "Other        1\n",
       "Name: Gender, dtype: int64"
      ]
     },
     "execution_count": 23,
     "metadata": {},
     "output_type": "execute_result"
    }
   ],
   "source": [
    "# Looking at value counts for Gender column\n",
    "stroke_df[\"Gender\"].value_counts()\n"
   ]
  },
  {
   "cell_type": "code",
   "execution_count": 24,
   "id": "f32038aa",
   "metadata": {},
   "outputs": [],
   "source": [
    "# Deleting row with \"Other\" value in Gender column\n",
    "stroke_df=stroke_df[stroke_df.Gender!= \"Other\"]"
   ]
  },
  {
   "cell_type": "code",
   "execution_count": 25,
   "id": "43df98a4",
   "metadata": {},
   "outputs": [
    {
     "data": {
      "text/plain": [
       "Female    2897\n",
       "Male      2011\n",
       "Name: Gender, dtype: int64"
      ]
     },
     "execution_count": 25,
     "metadata": {},
     "output_type": "execute_result"
    }
   ],
   "source": [
    "# Checking Gender valuecount\n",
    "stroke_df[\"Gender\"].value_counts()"
   ]
  },
  {
   "cell_type": "code",
   "execution_count": 26,
   "id": "b3bf14af",
   "metadata": {},
   "outputs": [
    {
     "data": {
      "text/html": [
       "<div>\n",
       "<style scoped>\n",
       "    .dataframe tbody tr th:only-of-type {\n",
       "        vertical-align: middle;\n",
       "    }\n",
       "\n",
       "    .dataframe tbody tr th {\n",
       "        vertical-align: top;\n",
       "    }\n",
       "\n",
       "    .dataframe thead th {\n",
       "        text-align: right;\n",
       "    }\n",
       "</style>\n",
       "<table border=\"1\" class=\"dataframe\">\n",
       "  <thead>\n",
       "    <tr style=\"text-align: right;\">\n",
       "      <th></th>\n",
       "      <th>Gender</th>\n",
       "      <th>Age</th>\n",
       "      <th>Hypertension</th>\n",
       "      <th>Heart_Disease</th>\n",
       "      <th>Ever_Married</th>\n",
       "      <th>Work_Type</th>\n",
       "      <th>Residence_Type</th>\n",
       "      <th>Average_Glucose</th>\n",
       "      <th>BMI</th>\n",
       "      <th>Smoking_Status</th>\n",
       "      <th>Stroke</th>\n",
       "    </tr>\n",
       "  </thead>\n",
       "  <tbody>\n",
       "    <tr>\n",
       "      <th>0</th>\n",
       "      <td>Male</td>\n",
       "      <td>67.0</td>\n",
       "      <td>0</td>\n",
       "      <td>1</td>\n",
       "      <td>Yes</td>\n",
       "      <td>Private</td>\n",
       "      <td>Urban</td>\n",
       "      <td>228.69</td>\n",
       "      <td>36.6</td>\n",
       "      <td>formerly smoked</td>\n",
       "      <td>1</td>\n",
       "    </tr>\n",
       "    <tr>\n",
       "      <th>2</th>\n",
       "      <td>Male</td>\n",
       "      <td>80.0</td>\n",
       "      <td>0</td>\n",
       "      <td>1</td>\n",
       "      <td>Yes</td>\n",
       "      <td>Private</td>\n",
       "      <td>Rural</td>\n",
       "      <td>105.92</td>\n",
       "      <td>32.5</td>\n",
       "      <td>never smoked</td>\n",
       "      <td>1</td>\n",
       "    </tr>\n",
       "    <tr>\n",
       "      <th>3</th>\n",
       "      <td>Female</td>\n",
       "      <td>49.0</td>\n",
       "      <td>0</td>\n",
       "      <td>0</td>\n",
       "      <td>Yes</td>\n",
       "      <td>Private</td>\n",
       "      <td>Urban</td>\n",
       "      <td>171.23</td>\n",
       "      <td>34.4</td>\n",
       "      <td>smokes</td>\n",
       "      <td>1</td>\n",
       "    </tr>\n",
       "    <tr>\n",
       "      <th>4</th>\n",
       "      <td>Female</td>\n",
       "      <td>79.0</td>\n",
       "      <td>1</td>\n",
       "      <td>0</td>\n",
       "      <td>Yes</td>\n",
       "      <td>Self-employed</td>\n",
       "      <td>Rural</td>\n",
       "      <td>174.12</td>\n",
       "      <td>24.0</td>\n",
       "      <td>never smoked</td>\n",
       "      <td>1</td>\n",
       "    </tr>\n",
       "    <tr>\n",
       "      <th>5</th>\n",
       "      <td>Male</td>\n",
       "      <td>81.0</td>\n",
       "      <td>0</td>\n",
       "      <td>0</td>\n",
       "      <td>Yes</td>\n",
       "      <td>Private</td>\n",
       "      <td>Urban</td>\n",
       "      <td>186.21</td>\n",
       "      <td>29.0</td>\n",
       "      <td>formerly smoked</td>\n",
       "      <td>1</td>\n",
       "    </tr>\n",
       "    <tr>\n",
       "      <th>...</th>\n",
       "      <td>...</td>\n",
       "      <td>...</td>\n",
       "      <td>...</td>\n",
       "      <td>...</td>\n",
       "      <td>...</td>\n",
       "      <td>...</td>\n",
       "      <td>...</td>\n",
       "      <td>...</td>\n",
       "      <td>...</td>\n",
       "      <td>...</td>\n",
       "      <td>...</td>\n",
       "    </tr>\n",
       "    <tr>\n",
       "      <th>5104</th>\n",
       "      <td>Female</td>\n",
       "      <td>13.0</td>\n",
       "      <td>0</td>\n",
       "      <td>0</td>\n",
       "      <td>No</td>\n",
       "      <td>children</td>\n",
       "      <td>Rural</td>\n",
       "      <td>103.08</td>\n",
       "      <td>18.6</td>\n",
       "      <td>Unknown</td>\n",
       "      <td>0</td>\n",
       "    </tr>\n",
       "    <tr>\n",
       "      <th>5106</th>\n",
       "      <td>Female</td>\n",
       "      <td>81.0</td>\n",
       "      <td>0</td>\n",
       "      <td>0</td>\n",
       "      <td>Yes</td>\n",
       "      <td>Self-employed</td>\n",
       "      <td>Urban</td>\n",
       "      <td>125.20</td>\n",
       "      <td>40.0</td>\n",
       "      <td>never smoked</td>\n",
       "      <td>0</td>\n",
       "    </tr>\n",
       "    <tr>\n",
       "      <th>5107</th>\n",
       "      <td>Female</td>\n",
       "      <td>35.0</td>\n",
       "      <td>0</td>\n",
       "      <td>0</td>\n",
       "      <td>Yes</td>\n",
       "      <td>Self-employed</td>\n",
       "      <td>Rural</td>\n",
       "      <td>82.99</td>\n",
       "      <td>30.6</td>\n",
       "      <td>never smoked</td>\n",
       "      <td>0</td>\n",
       "    </tr>\n",
       "    <tr>\n",
       "      <th>5108</th>\n",
       "      <td>Male</td>\n",
       "      <td>51.0</td>\n",
       "      <td>0</td>\n",
       "      <td>0</td>\n",
       "      <td>Yes</td>\n",
       "      <td>Private</td>\n",
       "      <td>Rural</td>\n",
       "      <td>166.29</td>\n",
       "      <td>25.6</td>\n",
       "      <td>formerly smoked</td>\n",
       "      <td>0</td>\n",
       "    </tr>\n",
       "    <tr>\n",
       "      <th>5109</th>\n",
       "      <td>Female</td>\n",
       "      <td>44.0</td>\n",
       "      <td>0</td>\n",
       "      <td>0</td>\n",
       "      <td>Yes</td>\n",
       "      <td>Govt_job</td>\n",
       "      <td>Urban</td>\n",
       "      <td>85.28</td>\n",
       "      <td>26.2</td>\n",
       "      <td>Unknown</td>\n",
       "      <td>0</td>\n",
       "    </tr>\n",
       "  </tbody>\n",
       "</table>\n",
       "<p>4908 rows × 11 columns</p>\n",
       "</div>"
      ],
      "text/plain": [
       "      Gender   Age  Hypertension  Heart_Disease Ever_Married      Work_Type  \\\n",
       "0       Male  67.0             0              1          Yes        Private   \n",
       "2       Male  80.0             0              1          Yes        Private   \n",
       "3     Female  49.0             0              0          Yes        Private   \n",
       "4     Female  79.0             1              0          Yes  Self-employed   \n",
       "5       Male  81.0             0              0          Yes        Private   \n",
       "...      ...   ...           ...            ...          ...            ...   \n",
       "5104  Female  13.0             0              0           No       children   \n",
       "5106  Female  81.0             0              0          Yes  Self-employed   \n",
       "5107  Female  35.0             0              0          Yes  Self-employed   \n",
       "5108    Male  51.0             0              0          Yes        Private   \n",
       "5109  Female  44.0             0              0          Yes       Govt_job   \n",
       "\n",
       "     Residence_Type  Average_Glucose   BMI   Smoking_Status  Stroke  \n",
       "0             Urban           228.69  36.6  formerly smoked       1  \n",
       "2             Rural           105.92  32.5     never smoked       1  \n",
       "3             Urban           171.23  34.4           smokes       1  \n",
       "4             Rural           174.12  24.0     never smoked       1  \n",
       "5             Urban           186.21  29.0  formerly smoked       1  \n",
       "...             ...              ...   ...              ...     ...  \n",
       "5104          Rural           103.08  18.6          Unknown       0  \n",
       "5106          Urban           125.20  40.0     never smoked       0  \n",
       "5107          Rural            82.99  30.6     never smoked       0  \n",
       "5108          Rural           166.29  25.6  formerly smoked       0  \n",
       "5109          Urban            85.28  26.2          Unknown       0  \n",
       "\n",
       "[4908 rows x 11 columns]"
      ]
     },
     "execution_count": 26,
     "metadata": {},
     "output_type": "execute_result"
    }
   ],
   "source": [
    "stroke_df"
   ]
  },
  {
   "cell_type": "markdown",
   "id": "39bd0e3f",
   "metadata": {},
   "source": [
    "# One Hot Encoding"
   ]
  },
  {
   "cell_type": "code",
   "execution_count": 27,
   "id": "6d7bda03",
   "metadata": {},
   "outputs": [],
   "source": [
    "\n",
    "# Generate our categorical variable lists\n",
    "stroke_df_cat = stroke_df.dtypes[stroke_df.dtypes == \"object\"].index.tolist()"
   ]
  },
  {
   "cell_type": "code",
   "execution_count": 28,
   "id": "11088ece",
   "metadata": {},
   "outputs": [
    {
     "data": {
      "text/plain": [
       "Gender            2\n",
       "Ever_Married      2\n",
       "Work_Type         5\n",
       "Residence_Type    2\n",
       "Smoking_Status    4\n",
       "dtype: int64"
      ]
     },
     "execution_count": 28,
     "metadata": {},
     "output_type": "execute_result"
    }
   ],
   "source": [
    "# Check the number of unique values in each column\n",
    "stroke_df[stroke_df_cat].nunique()"
   ]
  },
  {
   "cell_type": "code",
   "execution_count": 29,
   "id": "e01d425c",
   "metadata": {},
   "outputs": [],
   "source": [
    "from sklearn.preprocessing import OneHotEncoder"
   ]
  },
  {
   "cell_type": "code",
   "execution_count": 30,
   "id": "659f0197",
   "metadata": {},
   "outputs": [
    {
     "name": "stderr",
     "output_type": "stream",
     "text": [
      "/Users/bradroberts/opt/anaconda3/envs/mlenv/lib/python3.7/site-packages/sklearn/utils/deprecation.py:87: FutureWarning: Function get_feature_names is deprecated; get_feature_names is deprecated in 1.0 and will be removed in 1.2. Please use get_feature_names_out instead.\n",
      "  warnings.warn(msg, category=FutureWarning)\n"
     ]
    },
    {
     "data": {
      "text/html": [
       "<div>\n",
       "<style scoped>\n",
       "    .dataframe tbody tr th:only-of-type {\n",
       "        vertical-align: middle;\n",
       "    }\n",
       "\n",
       "    .dataframe tbody tr th {\n",
       "        vertical-align: top;\n",
       "    }\n",
       "\n",
       "    .dataframe thead th {\n",
       "        text-align: right;\n",
       "    }\n",
       "</style>\n",
       "<table border=\"1\" class=\"dataframe\">\n",
       "  <thead>\n",
       "    <tr style=\"text-align: right;\">\n",
       "      <th></th>\n",
       "      <th>Gender_Female</th>\n",
       "      <th>Gender_Male</th>\n",
       "      <th>Ever_Married_No</th>\n",
       "      <th>Ever_Married_Yes</th>\n",
       "      <th>Work_Type_Govt_job</th>\n",
       "      <th>Work_Type_Never_worked</th>\n",
       "      <th>Work_Type_Private</th>\n",
       "      <th>Work_Type_Self-employed</th>\n",
       "      <th>Work_Type_children</th>\n",
       "      <th>Residence_Type_Rural</th>\n",
       "      <th>Residence_Type_Urban</th>\n",
       "      <th>Smoking_Status_Unknown</th>\n",
       "      <th>Smoking_Status_formerly smoked</th>\n",
       "      <th>Smoking_Status_never smoked</th>\n",
       "      <th>Smoking_Status_smokes</th>\n",
       "    </tr>\n",
       "  </thead>\n",
       "  <tbody>\n",
       "    <tr>\n",
       "      <th>0</th>\n",
       "      <td>0.0</td>\n",
       "      <td>1.0</td>\n",
       "      <td>0.0</td>\n",
       "      <td>1.0</td>\n",
       "      <td>0.0</td>\n",
       "      <td>0.0</td>\n",
       "      <td>1.0</td>\n",
       "      <td>0.0</td>\n",
       "      <td>0.0</td>\n",
       "      <td>0.0</td>\n",
       "      <td>1.0</td>\n",
       "      <td>0.0</td>\n",
       "      <td>1.0</td>\n",
       "      <td>0.0</td>\n",
       "      <td>0.0</td>\n",
       "    </tr>\n",
       "    <tr>\n",
       "      <th>1</th>\n",
       "      <td>0.0</td>\n",
       "      <td>1.0</td>\n",
       "      <td>0.0</td>\n",
       "      <td>1.0</td>\n",
       "      <td>0.0</td>\n",
       "      <td>0.0</td>\n",
       "      <td>1.0</td>\n",
       "      <td>0.0</td>\n",
       "      <td>0.0</td>\n",
       "      <td>1.0</td>\n",
       "      <td>0.0</td>\n",
       "      <td>0.0</td>\n",
       "      <td>0.0</td>\n",
       "      <td>1.0</td>\n",
       "      <td>0.0</td>\n",
       "    </tr>\n",
       "    <tr>\n",
       "      <th>2</th>\n",
       "      <td>1.0</td>\n",
       "      <td>0.0</td>\n",
       "      <td>0.0</td>\n",
       "      <td>1.0</td>\n",
       "      <td>0.0</td>\n",
       "      <td>0.0</td>\n",
       "      <td>1.0</td>\n",
       "      <td>0.0</td>\n",
       "      <td>0.0</td>\n",
       "      <td>0.0</td>\n",
       "      <td>1.0</td>\n",
       "      <td>0.0</td>\n",
       "      <td>0.0</td>\n",
       "      <td>0.0</td>\n",
       "      <td>1.0</td>\n",
       "    </tr>\n",
       "    <tr>\n",
       "      <th>3</th>\n",
       "      <td>1.0</td>\n",
       "      <td>0.0</td>\n",
       "      <td>0.0</td>\n",
       "      <td>1.0</td>\n",
       "      <td>0.0</td>\n",
       "      <td>0.0</td>\n",
       "      <td>0.0</td>\n",
       "      <td>1.0</td>\n",
       "      <td>0.0</td>\n",
       "      <td>1.0</td>\n",
       "      <td>0.0</td>\n",
       "      <td>0.0</td>\n",
       "      <td>0.0</td>\n",
       "      <td>1.0</td>\n",
       "      <td>0.0</td>\n",
       "    </tr>\n",
       "    <tr>\n",
       "      <th>4</th>\n",
       "      <td>0.0</td>\n",
       "      <td>1.0</td>\n",
       "      <td>0.0</td>\n",
       "      <td>1.0</td>\n",
       "      <td>0.0</td>\n",
       "      <td>0.0</td>\n",
       "      <td>1.0</td>\n",
       "      <td>0.0</td>\n",
       "      <td>0.0</td>\n",
       "      <td>0.0</td>\n",
       "      <td>1.0</td>\n",
       "      <td>0.0</td>\n",
       "      <td>1.0</td>\n",
       "      <td>0.0</td>\n",
       "      <td>0.0</td>\n",
       "    </tr>\n",
       "  </tbody>\n",
       "</table>\n",
       "</div>"
      ],
      "text/plain": [
       "   Gender_Female  Gender_Male  Ever_Married_No  Ever_Married_Yes  \\\n",
       "0            0.0          1.0              0.0               1.0   \n",
       "1            0.0          1.0              0.0               1.0   \n",
       "2            1.0          0.0              0.0               1.0   \n",
       "3            1.0          0.0              0.0               1.0   \n",
       "4            0.0          1.0              0.0               1.0   \n",
       "\n",
       "   Work_Type_Govt_job  Work_Type_Never_worked  Work_Type_Private  \\\n",
       "0                 0.0                     0.0                1.0   \n",
       "1                 0.0                     0.0                1.0   \n",
       "2                 0.0                     0.0                1.0   \n",
       "3                 0.0                     0.0                0.0   \n",
       "4                 0.0                     0.0                1.0   \n",
       "\n",
       "   Work_Type_Self-employed  Work_Type_children  Residence_Type_Rural  \\\n",
       "0                      0.0                 0.0                   0.0   \n",
       "1                      0.0                 0.0                   1.0   \n",
       "2                      0.0                 0.0                   0.0   \n",
       "3                      1.0                 0.0                   1.0   \n",
       "4                      0.0                 0.0                   0.0   \n",
       "\n",
       "   Residence_Type_Urban  Smoking_Status_Unknown  \\\n",
       "0                   1.0                     0.0   \n",
       "1                   0.0                     0.0   \n",
       "2                   1.0                     0.0   \n",
       "3                   0.0                     0.0   \n",
       "4                   1.0                     0.0   \n",
       "\n",
       "   Smoking_Status_formerly smoked  Smoking_Status_never smoked  \\\n",
       "0                             1.0                          0.0   \n",
       "1                             0.0                          1.0   \n",
       "2                             0.0                          0.0   \n",
       "3                             0.0                          1.0   \n",
       "4                             1.0                          0.0   \n",
       "\n",
       "   Smoking_Status_smokes  \n",
       "0                    0.0  \n",
       "1                    0.0  \n",
       "2                    1.0  \n",
       "3                    0.0  \n",
       "4                    0.0  "
      ]
     },
     "execution_count": 30,
     "metadata": {},
     "output_type": "execute_result"
    }
   ],
   "source": [
    "# Create a OneHotEncoder instance\n",
    "enc = OneHotEncoder(sparse=False)\n",
    "\n",
    "# Fit and transform the OneHotEncoder using the categorical variable list\n",
    "encode_df = pd.DataFrame(enc.fit_transform(stroke_df[stroke_df_cat]))\n",
    "\n",
    "# Add the encoded variable names to the dataframe\n",
    "encode_df.columns = enc.get_feature_names(stroke_df_cat)\n",
    "encode_df.head()"
   ]
  },
  {
   "cell_type": "code",
   "execution_count": 31,
   "id": "f84b6e45",
   "metadata": {},
   "outputs": [
    {
     "name": "stderr",
     "output_type": "stream",
     "text": [
      "/Users/bradroberts/opt/anaconda3/envs/mlenv/lib/python3.7/site-packages/ipykernel_launcher.py:3: FutureWarning: In a future version of pandas all arguments of DataFrame.drop except for the argument 'labels' will be keyword-only\n",
      "  This is separate from the ipykernel package so we can avoid doing imports until\n"
     ]
    },
    {
     "data": {
      "text/html": [
       "<div>\n",
       "<style scoped>\n",
       "    .dataframe tbody tr th:only-of-type {\n",
       "        vertical-align: middle;\n",
       "    }\n",
       "\n",
       "    .dataframe tbody tr th {\n",
       "        vertical-align: top;\n",
       "    }\n",
       "\n",
       "    .dataframe thead th {\n",
       "        text-align: right;\n",
       "    }\n",
       "</style>\n",
       "<table border=\"1\" class=\"dataframe\">\n",
       "  <thead>\n",
       "    <tr style=\"text-align: right;\">\n",
       "      <th></th>\n",
       "      <th>Age</th>\n",
       "      <th>Hypertension</th>\n",
       "      <th>Heart_Disease</th>\n",
       "      <th>Average_Glucose</th>\n",
       "      <th>BMI</th>\n",
       "      <th>Stroke</th>\n",
       "      <th>Gender_Female</th>\n",
       "      <th>Gender_Male</th>\n",
       "      <th>Ever_Married_No</th>\n",
       "      <th>Ever_Married_Yes</th>\n",
       "      <th>...</th>\n",
       "      <th>Work_Type_Never_worked</th>\n",
       "      <th>Work_Type_Private</th>\n",
       "      <th>Work_Type_Self-employed</th>\n",
       "      <th>Work_Type_children</th>\n",
       "      <th>Residence_Type_Rural</th>\n",
       "      <th>Residence_Type_Urban</th>\n",
       "      <th>Smoking_Status_Unknown</th>\n",
       "      <th>Smoking_Status_formerly smoked</th>\n",
       "      <th>Smoking_Status_never smoked</th>\n",
       "      <th>Smoking_Status_smokes</th>\n",
       "    </tr>\n",
       "  </thead>\n",
       "  <tbody>\n",
       "    <tr>\n",
       "      <th>0</th>\n",
       "      <td>67.0</td>\n",
       "      <td>0</td>\n",
       "      <td>1</td>\n",
       "      <td>228.69</td>\n",
       "      <td>36.6</td>\n",
       "      <td>1</td>\n",
       "      <td>0.0</td>\n",
       "      <td>1.0</td>\n",
       "      <td>0.0</td>\n",
       "      <td>1.0</td>\n",
       "      <td>...</td>\n",
       "      <td>0.0</td>\n",
       "      <td>1.0</td>\n",
       "      <td>0.0</td>\n",
       "      <td>0.0</td>\n",
       "      <td>0.0</td>\n",
       "      <td>1.0</td>\n",
       "      <td>0.0</td>\n",
       "      <td>1.0</td>\n",
       "      <td>0.0</td>\n",
       "      <td>0.0</td>\n",
       "    </tr>\n",
       "    <tr>\n",
       "      <th>2</th>\n",
       "      <td>80.0</td>\n",
       "      <td>0</td>\n",
       "      <td>1</td>\n",
       "      <td>105.92</td>\n",
       "      <td>32.5</td>\n",
       "      <td>1</td>\n",
       "      <td>1.0</td>\n",
       "      <td>0.0</td>\n",
       "      <td>0.0</td>\n",
       "      <td>1.0</td>\n",
       "      <td>...</td>\n",
       "      <td>0.0</td>\n",
       "      <td>1.0</td>\n",
       "      <td>0.0</td>\n",
       "      <td>0.0</td>\n",
       "      <td>0.0</td>\n",
       "      <td>1.0</td>\n",
       "      <td>0.0</td>\n",
       "      <td>0.0</td>\n",
       "      <td>0.0</td>\n",
       "      <td>1.0</td>\n",
       "    </tr>\n",
       "    <tr>\n",
       "      <th>3</th>\n",
       "      <td>49.0</td>\n",
       "      <td>0</td>\n",
       "      <td>0</td>\n",
       "      <td>171.23</td>\n",
       "      <td>34.4</td>\n",
       "      <td>1</td>\n",
       "      <td>1.0</td>\n",
       "      <td>0.0</td>\n",
       "      <td>0.0</td>\n",
       "      <td>1.0</td>\n",
       "      <td>...</td>\n",
       "      <td>0.0</td>\n",
       "      <td>0.0</td>\n",
       "      <td>1.0</td>\n",
       "      <td>0.0</td>\n",
       "      <td>1.0</td>\n",
       "      <td>0.0</td>\n",
       "      <td>0.0</td>\n",
       "      <td>0.0</td>\n",
       "      <td>1.0</td>\n",
       "      <td>0.0</td>\n",
       "    </tr>\n",
       "    <tr>\n",
       "      <th>4</th>\n",
       "      <td>79.0</td>\n",
       "      <td>1</td>\n",
       "      <td>0</td>\n",
       "      <td>174.12</td>\n",
       "      <td>24.0</td>\n",
       "      <td>1</td>\n",
       "      <td>0.0</td>\n",
       "      <td>1.0</td>\n",
       "      <td>0.0</td>\n",
       "      <td>1.0</td>\n",
       "      <td>...</td>\n",
       "      <td>0.0</td>\n",
       "      <td>1.0</td>\n",
       "      <td>0.0</td>\n",
       "      <td>0.0</td>\n",
       "      <td>0.0</td>\n",
       "      <td>1.0</td>\n",
       "      <td>0.0</td>\n",
       "      <td>1.0</td>\n",
       "      <td>0.0</td>\n",
       "      <td>0.0</td>\n",
       "    </tr>\n",
       "    <tr>\n",
       "      <th>5</th>\n",
       "      <td>81.0</td>\n",
       "      <td>0</td>\n",
       "      <td>0</td>\n",
       "      <td>186.21</td>\n",
       "      <td>29.0</td>\n",
       "      <td>1</td>\n",
       "      <td>0.0</td>\n",
       "      <td>1.0</td>\n",
       "      <td>0.0</td>\n",
       "      <td>1.0</td>\n",
       "      <td>...</td>\n",
       "      <td>0.0</td>\n",
       "      <td>1.0</td>\n",
       "      <td>0.0</td>\n",
       "      <td>0.0</td>\n",
       "      <td>1.0</td>\n",
       "      <td>0.0</td>\n",
       "      <td>0.0</td>\n",
       "      <td>0.0</td>\n",
       "      <td>1.0</td>\n",
       "      <td>0.0</td>\n",
       "    </tr>\n",
       "  </tbody>\n",
       "</table>\n",
       "<p>5 rows × 21 columns</p>\n",
       "</div>"
      ],
      "text/plain": [
       "    Age  Hypertension  Heart_Disease  Average_Glucose   BMI  Stroke  \\\n",
       "0  67.0             0              1           228.69  36.6       1   \n",
       "2  80.0             0              1           105.92  32.5       1   \n",
       "3  49.0             0              0           171.23  34.4       1   \n",
       "4  79.0             1              0           174.12  24.0       1   \n",
       "5  81.0             0              0           186.21  29.0       1   \n",
       "\n",
       "   Gender_Female  Gender_Male  Ever_Married_No  Ever_Married_Yes  ...  \\\n",
       "0            0.0          1.0              0.0               1.0  ...   \n",
       "2            1.0          0.0              0.0               1.0  ...   \n",
       "3            1.0          0.0              0.0               1.0  ...   \n",
       "4            0.0          1.0              0.0               1.0  ...   \n",
       "5            0.0          1.0              0.0               1.0  ...   \n",
       "\n",
       "   Work_Type_Never_worked  Work_Type_Private  Work_Type_Self-employed  \\\n",
       "0                     0.0                1.0                      0.0   \n",
       "2                     0.0                1.0                      0.0   \n",
       "3                     0.0                0.0                      1.0   \n",
       "4                     0.0                1.0                      0.0   \n",
       "5                     0.0                1.0                      0.0   \n",
       "\n",
       "   Work_Type_children  Residence_Type_Rural  Residence_Type_Urban  \\\n",
       "0                 0.0                   0.0                   1.0   \n",
       "2                 0.0                   0.0                   1.0   \n",
       "3                 0.0                   1.0                   0.0   \n",
       "4                 0.0                   0.0                   1.0   \n",
       "5                 0.0                   1.0                   0.0   \n",
       "\n",
       "   Smoking_Status_Unknown  Smoking_Status_formerly smoked  \\\n",
       "0                     0.0                             1.0   \n",
       "2                     0.0                             0.0   \n",
       "3                     0.0                             0.0   \n",
       "4                     0.0                             1.0   \n",
       "5                     0.0                             0.0   \n",
       "\n",
       "   Smoking_Status_never smoked  Smoking_Status_smokes  \n",
       "0                          0.0                    0.0  \n",
       "2                          0.0                    1.0  \n",
       "3                          1.0                    0.0  \n",
       "4                          0.0                    0.0  \n",
       "5                          1.0                    0.0  \n",
       "\n",
       "[5 rows x 21 columns]"
      ]
     },
     "execution_count": 31,
     "metadata": {},
     "output_type": "execute_result"
    }
   ],
   "source": [
    "# Merge one-hot encoded features and drop the originals\n",
    "stroke_df = stroke_df.merge(encode_df,left_index=True, right_index=True)\n",
    "stroke_df = stroke_df.drop(stroke_df_cat,1)\n",
    "stroke_df.head()"
   ]
  },
  {
   "cell_type": "code",
   "execution_count": 32,
   "id": "419660cc",
   "metadata": {},
   "outputs": [],
   "source": [
    "from sklearn.model_selection import train_test_split"
   ]
  },
  {
   "cell_type": "code",
   "execution_count": 33,
   "id": "36d230b4",
   "metadata": {},
   "outputs": [],
   "source": [
    "from sklearn.preprocessing import StandardScaler"
   ]
  },
  {
   "cell_type": "code",
   "execution_count": 34,
   "id": "5033eea9",
   "metadata": {},
   "outputs": [
    {
     "name": "stderr",
     "output_type": "stream",
     "text": [
      "/Users/bradroberts/opt/anaconda3/envs/mlenv/lib/python3.7/site-packages/ipykernel_launcher.py:3: FutureWarning: In a future version of pandas all arguments of DataFrame.drop except for the argument 'labels' will be keyword-only\n",
      "  This is separate from the ipykernel package so we can avoid doing imports until\n"
     ]
    }
   ],
   "source": [
    "# Split our preprocessed data into our features and target arrays\n",
    "y = stroke_df[\"Stroke\"].values\n",
    "X = stroke_df.drop([\"Stroke\"],1).values\n",
    "\n",
    "# Split the preprocessed data into a training and testing dataset\n",
    "X_train, X_test, y_train, y_test = train_test_split(X, y, random_state=78)"
   ]
  },
  {
   "cell_type": "code",
   "execution_count": 35,
   "id": "965c37f0",
   "metadata": {},
   "outputs": [],
   "source": [
    "# Create a StandardScaler instances\n",
    "scaler = StandardScaler()\n",
    "\n",
    "# Fit the StandardScaler\n",
    "X_scaler = scaler.fit(X_train)\n",
    "\n",
    "# Scale the data\n",
    "#X_train_scaled = X_scaler.transform(X_train)\n",
    "#X_test_scaled = X_scaler.transform(X_test)"
   ]
  },
  {
   "cell_type": "markdown",
   "id": "07d0d8ee",
   "metadata": {},
   "source": [
    "# Oversampling for X_train_scaled"
   ]
  },
  {
   "cell_type": "code",
   "execution_count": 36,
   "id": "5e3a4863",
   "metadata": {},
   "outputs": [],
   "source": [
    "from collections import Counter"
   ]
  },
  {
   "cell_type": "code",
   "execution_count": 37,
   "id": "939ad229",
   "metadata": {},
   "outputs": [
    {
     "data": {
      "text/plain": [
       "Counter({0: 3391, 1: 3391})"
      ]
     },
     "execution_count": 37,
     "metadata": {},
     "output_type": "execute_result"
    }
   ],
   "source": [
    "from imblearn.over_sampling import SMOTE\n",
    "X_resampled, y_resampled = SMOTE(random_state=1, sampling_strategy='auto').fit_resample(\n",
    "    X_train, y_train\n",
    ")\n",
    "X_resampled_scaled = X_scaler.transform(X_resampled)\n",
    "\n",
    "X_test_scaled = X_scaler.transform(X_test)\n",
    "Counter(y_resampled)"
   ]
  },
  {
   "cell_type": "markdown",
   "id": "009ed339",
   "metadata": {},
   "source": [
    "# Decision Tree"
   ]
  },
  {
   "cell_type": "code",
   "execution_count": 38,
   "id": "e2622a46",
   "metadata": {},
   "outputs": [],
   "source": [
    "from sklearn.tree import DecisionTreeClassifier\n",
    "dt=DecisionTreeClassifier()"
   ]
  },
  {
   "cell_type": "code",
   "execution_count": 39,
   "id": "bbcb857a",
   "metadata": {},
   "outputs": [
    {
     "data": {
      "text/plain": [
       "DecisionTreeClassifier()"
      ]
     },
     "execution_count": 39,
     "metadata": {},
     "output_type": "execute_result"
    }
   ],
   "source": [
    "# Decision tree will tell us whether or not a person is a potential stroke victim\n",
    "dt.fit(X_resampled, y_resampled)"
   ]
  },
  {
   "cell_type": "code",
   "execution_count": 40,
   "id": "cabc10d0",
   "metadata": {},
   "outputs": [
    {
     "data": {
      "text/plain": [
       "array([3.65141425e-01, 9.88153155e-02, 2.74459286e-03, 7.39139948e-02,\n",
       "       3.71889908e-02, 1.11847123e-02, 2.75107008e-03, 1.81738551e-02,\n",
       "       1.09536941e-01, 1.73060270e-03, 1.81365886e-04, 5.50374600e-02,\n",
       "       6.96889635e-03, 5.01495555e-03, 1.19541173e-02, 1.39839842e-02,\n",
       "       2.99734478e-02, 6.68512306e-02, 3.06582064e-02, 5.81948356e-02])"
      ]
     },
     "execution_count": 40,
     "metadata": {},
     "output_type": "execute_result"
    }
   ],
   "source": [
    "dt.feature_importances_"
   ]
  },
  {
   "cell_type": "code",
   "execution_count": 44,
   "id": "83c05309",
   "metadata": {},
   "outputs": [
    {
     "data": {
      "text/plain": [
       "0.8999151823579304"
      ]
     },
     "execution_count": 44,
     "metadata": {},
     "output_type": "execute_result"
    }
   ],
   "source": [
    "y_pred=dt.predict(X_test)\n",
    "accuracy_score(y_test, y_pred)"
   ]
  },
  {
   "cell_type": "code",
   "execution_count": 45,
   "id": "2cc0c33e",
   "metadata": {},
   "outputs": [
    {
     "name": "stdout",
     "output_type": "stream",
     "text": [
      "[[1050   65]\n",
      " [  53   11]]\n"
     ]
    }
   ],
   "source": [
    "cm = confusion_matrix(y_test, y_pred)\n",
    "print(cm)"
   ]
  },
  {
   "cell_type": "code",
   "execution_count": 46,
   "id": "d2258f48",
   "metadata": {},
   "outputs": [
    {
     "name": "stdout",
     "output_type": "stream",
     "text": [
      "              precision    recall  f1-score   support\n",
      "\n",
      "           0       0.95      0.94      0.95      1115\n",
      "           1       0.14      0.17      0.16        64\n",
      "\n",
      "    accuracy                           0.90      1179\n",
      "   macro avg       0.55      0.56      0.55      1179\n",
      "weighted avg       0.91      0.90      0.90      1179\n",
      "\n"
     ]
    }
   ],
   "source": [
    "report = classification_report(y_test, y_pred)\n",
    "print(report)"
   ]
  },
  {
   "cell_type": "code",
   "execution_count": 47,
   "id": "952461a0",
   "metadata": {},
   "outputs": [
    {
     "data": {
      "text/plain": [
       "['models/dt3.joblib']"
      ]
     },
     "execution_count": 47,
     "metadata": {},
     "output_type": "execute_result"
    }
   ],
   "source": [
    "import os\n",
    "import joblib\n",
    "\n",
    "filename = os.path.join('models/', 'dt3.joblib')\n",
    "joblib.dump(dt,filename)"
   ]
  },
  {
   "cell_type": "code",
   "execution_count": 48,
   "id": "c472ebcd",
   "metadata": {},
   "outputs": [
    {
     "data": {
      "text/plain": [
       "DecisionTreeClassifier()"
      ]
     },
     "execution_count": 48,
     "metadata": {},
     "output_type": "execute_result"
    }
   ],
   "source": [
    "joblib.load(filename)"
   ]
  },
  {
   "cell_type": "markdown",
   "id": "0153385b",
   "metadata": {},
   "source": [
    "# PCA"
   ]
  },
  {
   "cell_type": "code",
   "execution_count": 49,
   "id": "b13d5fe4",
   "metadata": {},
   "outputs": [],
   "source": [
    "from sklearn.decomposition import PCA"
   ]
  },
  {
   "cell_type": "code",
   "execution_count": 50,
   "id": "a8ca6a2e",
   "metadata": {},
   "outputs": [],
   "source": [
    "# Initialize PCA model\n",
    "pca = PCA(n_components=2)\n",
    "\n",
    "## Get two principal components for the data.\n",
    "#stroke_pca = pca.fit_transform(stroke_scaled)\n",
    "stroke_pca = pca.fit_transform(X_resampled_scaled)"
   ]
  },
  {
   "cell_type": "code",
   "execution_count": 51,
   "id": "f4f48c4b",
   "metadata": {},
   "outputs": [
    {
     "data": {
      "text/html": [
       "<div>\n",
       "<style scoped>\n",
       "    .dataframe tbody tr th:only-of-type {\n",
       "        vertical-align: middle;\n",
       "    }\n",
       "\n",
       "    .dataframe tbody tr th {\n",
       "        vertical-align: top;\n",
       "    }\n",
       "\n",
       "    .dataframe thead th {\n",
       "        text-align: right;\n",
       "    }\n",
       "</style>\n",
       "<table border=\"1\" class=\"dataframe\">\n",
       "  <thead>\n",
       "    <tr style=\"text-align: right;\">\n",
       "      <th></th>\n",
       "      <th>principal component 1</th>\n",
       "      <th>principal component 2</th>\n",
       "    </tr>\n",
       "  </thead>\n",
       "  <tbody>\n",
       "    <tr>\n",
       "      <th>0</th>\n",
       "      <td>-0.351486</td>\n",
       "      <td>-0.692405</td>\n",
       "    </tr>\n",
       "    <tr>\n",
       "      <th>1</th>\n",
       "      <td>-2.281676</td>\n",
       "      <td>-0.280051</td>\n",
       "    </tr>\n",
       "    <tr>\n",
       "      <th>2</th>\n",
       "      <td>-1.428815</td>\n",
       "      <td>-0.000019</td>\n",
       "    </tr>\n",
       "    <tr>\n",
       "      <th>3</th>\n",
       "      <td>-1.638586</td>\n",
       "      <td>0.576259</td>\n",
       "    </tr>\n",
       "    <tr>\n",
       "      <th>4</th>\n",
       "      <td>-0.648398</td>\n",
       "      <td>-1.261145</td>\n",
       "    </tr>\n",
       "  </tbody>\n",
       "</table>\n",
       "</div>"
      ],
      "text/plain": [
       "   principal component 1  principal component 2\n",
       "0              -0.351486              -0.692405\n",
       "1              -2.281676              -0.280051\n",
       "2              -1.428815              -0.000019\n",
       "3              -1.638586               0.576259\n",
       "4              -0.648398              -1.261145"
      ]
     },
     "execution_count": 51,
     "metadata": {},
     "output_type": "execute_result"
    }
   ],
   "source": [
    "# Transform PCA data to a DataFrame\n",
    "stroke_df_pca = pd.DataFrame(\n",
    "    data=stroke_pca, columns=[\"principal component 1\", \"principal component 2\",]\n",
    ")\n",
    "stroke_df_pca.head()"
   ]
  },
  {
   "cell_type": "code",
   "execution_count": 52,
   "id": "7530ae6f",
   "metadata": {},
   "outputs": [
    {
     "data": {
      "text/plain": [
       "array([0.15328578, 0.10831783])"
      ]
     },
     "execution_count": 52,
     "metadata": {},
     "output_type": "execute_result"
    }
   ],
   "source": [
    "# Fetch the explained variance\n",
    "pca.explained_variance_ratio_"
   ]
  },
  {
   "cell_type": "code",
   "execution_count": 53,
   "id": "d1eb075d",
   "metadata": {},
   "outputs": [],
   "source": [
    "# Initialize PCA model for 3 principal components\n",
    "pca = PCA(n_components=10)\n",
    "\n",
    "# Get two principal components for the iris data.\n",
    "stroke_pca = pca.fit_transform(X_resampled_scaled)"
   ]
  },
  {
   "cell_type": "code",
   "execution_count": 54,
   "id": "ed11e92c",
   "metadata": {},
   "outputs": [
    {
     "data": {
      "text/html": [
       "<div>\n",
       "<style scoped>\n",
       "    .dataframe tbody tr th:only-of-type {\n",
       "        vertical-align: middle;\n",
       "    }\n",
       "\n",
       "    .dataframe tbody tr th {\n",
       "        vertical-align: top;\n",
       "    }\n",
       "\n",
       "    .dataframe thead th {\n",
       "        text-align: right;\n",
       "    }\n",
       "</style>\n",
       "<table border=\"1\" class=\"dataframe\">\n",
       "  <thead>\n",
       "    <tr style=\"text-align: right;\">\n",
       "      <th></th>\n",
       "      <th>principal component 1</th>\n",
       "      <th>principal component 2</th>\n",
       "      <th>principal component 3</th>\n",
       "      <th>principal component 4</th>\n",
       "      <th>principal component 5</th>\n",
       "      <th>principal component 6</th>\n",
       "      <th>principal component 7</th>\n",
       "      <th>principal component 8</th>\n",
       "      <th>principal component 9</th>\n",
       "      <th>principal component 10</th>\n",
       "    </tr>\n",
       "  </thead>\n",
       "  <tbody>\n",
       "    <tr>\n",
       "      <th>0</th>\n",
       "      <td>-0.350282</td>\n",
       "      <td>-0.703493</td>\n",
       "      <td>2.308285</td>\n",
       "      <td>0.338401</td>\n",
       "      <td>-0.848727</td>\n",
       "      <td>0.053513</td>\n",
       "      <td>1.718428</td>\n",
       "      <td>0.124891</td>\n",
       "      <td>0.129884</td>\n",
       "      <td>-0.053570</td>\n",
       "    </tr>\n",
       "    <tr>\n",
       "      <th>1</th>\n",
       "      <td>-2.283337</td>\n",
       "      <td>-0.271989</td>\n",
       "      <td>-1.809750</td>\n",
       "      <td>-0.409562</td>\n",
       "      <td>-1.066102</td>\n",
       "      <td>0.544343</td>\n",
       "      <td>1.244727</td>\n",
       "      <td>-0.200741</td>\n",
       "      <td>0.728580</td>\n",
       "      <td>-0.346907</td>\n",
       "    </tr>\n",
       "    <tr>\n",
       "      <th>2</th>\n",
       "      <td>-1.427819</td>\n",
       "      <td>-0.015142</td>\n",
       "      <td>-1.658104</td>\n",
       "      <td>0.012584</td>\n",
       "      <td>-0.481150</td>\n",
       "      <td>-0.725579</td>\n",
       "      <td>-1.024435</td>\n",
       "      <td>-1.182649</td>\n",
       "      <td>1.692520</td>\n",
       "      <td>0.492206</td>\n",
       "    </tr>\n",
       "    <tr>\n",
       "      <th>3</th>\n",
       "      <td>-1.640206</td>\n",
       "      <td>0.569961</td>\n",
       "      <td>2.164042</td>\n",
       "      <td>0.927597</td>\n",
       "      <td>1.106278</td>\n",
       "      <td>-0.030458</td>\n",
       "      <td>-0.045800</td>\n",
       "      <td>0.457520</td>\n",
       "      <td>-0.809853</td>\n",
       "      <td>2.409698</td>\n",
       "    </tr>\n",
       "    <tr>\n",
       "      <th>4</th>\n",
       "      <td>-0.648245</td>\n",
       "      <td>-1.260715</td>\n",
       "      <td>-1.814734</td>\n",
       "      <td>0.586462</td>\n",
       "      <td>1.127080</td>\n",
       "      <td>0.626861</td>\n",
       "      <td>1.416798</td>\n",
       "      <td>-0.136045</td>\n",
       "      <td>-1.155159</td>\n",
       "      <td>2.160571</td>\n",
       "    </tr>\n",
       "  </tbody>\n",
       "</table>\n",
       "</div>"
      ],
      "text/plain": [
       "   principal component 1  principal component 2  principal component 3  \\\n",
       "0              -0.350282              -0.703493               2.308285   \n",
       "1              -2.283337              -0.271989              -1.809750   \n",
       "2              -1.427819              -0.015142              -1.658104   \n",
       "3              -1.640206               0.569961               2.164042   \n",
       "4              -0.648245              -1.260715              -1.814734   \n",
       "\n",
       "   principal component 4  principal component 5  principal component 6  \\\n",
       "0               0.338401              -0.848727               0.053513   \n",
       "1              -0.409562              -1.066102               0.544343   \n",
       "2               0.012584              -0.481150              -0.725579   \n",
       "3               0.927597               1.106278              -0.030458   \n",
       "4               0.586462               1.127080               0.626861   \n",
       "\n",
       "   principal component 7  principal component 8  principal component 9  \\\n",
       "0               1.718428               0.124891               0.129884   \n",
       "1               1.244727              -0.200741               0.728580   \n",
       "2              -1.024435              -1.182649               1.692520   \n",
       "3              -0.045800               0.457520              -0.809853   \n",
       "4               1.416798              -0.136045              -1.155159   \n",
       "\n",
       "   principal component 10  \n",
       "0               -0.053570  \n",
       "1               -0.346907  \n",
       "2                0.492206  \n",
       "3                2.409698  \n",
       "4                2.160571  "
      ]
     },
     "execution_count": 54,
     "metadata": {},
     "output_type": "execute_result"
    }
   ],
   "source": [
    "# Transform PCA data to a DataFrame\n",
    "stroke_df_pca = pd.DataFrame(\n",
    "    data=stroke_pca, columns=[\"principal component 1\", \"principal component 2\", \"principal component 3\",\n",
    "                              \"principal component 4\",\"principal component 5\",\"principal component 6\",\n",
    "                              \"principal component 7\",\"principal component 8\", \"principal component 9\",\n",
    "                             \"principal component 10\"]\n",
    ")\n",
    "stroke_df_pca.head()"
   ]
  },
  {
   "cell_type": "code",
   "execution_count": 55,
   "id": "88e60e2a",
   "metadata": {},
   "outputs": [
    {
     "data": {
      "text/plain": [
       "array([0.15328585, 0.10832022, 0.09269632, 0.08452705, 0.0776367 ,\n",
       "       0.07164607, 0.06661738, 0.06467808, 0.05718675, 0.05230711])"
      ]
     },
     "execution_count": 55,
     "metadata": {},
     "output_type": "execute_result"
    }
   ],
   "source": [
    "# Fetch the explained variance\n",
    "pca.explained_variance_ratio_"
   ]
  },
  {
   "cell_type": "code",
   "execution_count": 56,
   "id": "4b42efdc",
   "metadata": {},
   "outputs": [],
   "source": [
    "from sklearn.linear_model import LogisticRegression\n",
    "classifier = LogisticRegression(solver='lbfgs',\n",
    "                                max_iter=200,\n",
    "                                random_state=1)"
   ]
  },
  {
   "cell_type": "code",
   "execution_count": 57,
   "id": "7d334755",
   "metadata": {},
   "outputs": [
    {
     "name": "stderr",
     "output_type": "stream",
     "text": [
      "/Users/bradroberts/opt/anaconda3/envs/mlenv/lib/python3.7/site-packages/sklearn/linear_model/_logistic.py:818: ConvergenceWarning: lbfgs failed to converge (status=1):\n",
      "STOP: TOTAL NO. of ITERATIONS REACHED LIMIT.\n",
      "\n",
      "Increase the number of iterations (max_iter) or scale the data as shown in:\n",
      "    https://scikit-learn.org/stable/modules/preprocessing.html\n",
      "Please also refer to the documentation for alternative solver options:\n",
      "    https://scikit-learn.org/stable/modules/linear_model.html#logistic-regression\n",
      "  extra_warning_msg=_LOGISTIC_SOLVER_CONVERGENCE_MSG,\n"
     ]
    },
    {
     "data": {
      "text/plain": [
       "LogisticRegression(max_iter=200, random_state=1)"
      ]
     },
     "execution_count": 57,
     "metadata": {},
     "output_type": "execute_result"
    }
   ],
   "source": [
    "classifier.fit(X_resampled, y_resampled)"
   ]
  },
  {
   "cell_type": "code",
   "execution_count": 58,
   "id": "f55c004c",
   "metadata": {},
   "outputs": [
    {
     "data": {
      "text/html": [
       "<div>\n",
       "<style scoped>\n",
       "    .dataframe tbody tr th:only-of-type {\n",
       "        vertical-align: middle;\n",
       "    }\n",
       "\n",
       "    .dataframe tbody tr th {\n",
       "        vertical-align: top;\n",
       "    }\n",
       "\n",
       "    .dataframe thead th {\n",
       "        text-align: right;\n",
       "    }\n",
       "</style>\n",
       "<table border=\"1\" class=\"dataframe\">\n",
       "  <thead>\n",
       "    <tr style=\"text-align: right;\">\n",
       "      <th></th>\n",
       "      <th>Prediction</th>\n",
       "      <th>Actual</th>\n",
       "    </tr>\n",
       "  </thead>\n",
       "  <tbody>\n",
       "    <tr>\n",
       "      <th>0</th>\n",
       "      <td>0</td>\n",
       "      <td>0</td>\n",
       "    </tr>\n",
       "    <tr>\n",
       "      <th>1</th>\n",
       "      <td>0</td>\n",
       "      <td>0</td>\n",
       "    </tr>\n",
       "    <tr>\n",
       "      <th>2</th>\n",
       "      <td>0</td>\n",
       "      <td>0</td>\n",
       "    </tr>\n",
       "    <tr>\n",
       "      <th>3</th>\n",
       "      <td>0</td>\n",
       "      <td>0</td>\n",
       "    </tr>\n",
       "    <tr>\n",
       "      <th>4</th>\n",
       "      <td>0</td>\n",
       "      <td>0</td>\n",
       "    </tr>\n",
       "  </tbody>\n",
       "</table>\n",
       "</div>"
      ],
      "text/plain": [
       "   Prediction  Actual\n",
       "0           0       0\n",
       "1           0       0\n",
       "2           0       0\n",
       "3           0       0\n",
       "4           0       0"
      ]
     },
     "execution_count": 58,
     "metadata": {},
     "output_type": "execute_result"
    }
   ],
   "source": [
    "y_pred = classifier.predict(X_test)\n",
    "results = pd.DataFrame({\"Prediction\": y_pred, \"Actual\": y_test}).reset_index(drop=True)\n",
    "results.head()"
   ]
  },
  {
   "cell_type": "code",
   "execution_count": 59,
   "id": "65126918",
   "metadata": {},
   "outputs": [
    {
     "name": "stdout",
     "output_type": "stream",
     "text": [
      "0.7625106022052587\n"
     ]
    }
   ],
   "source": [
    "from sklearn.metrics import accuracy_score\n",
    "print(accuracy_score(y_test, y_pred))"
   ]
  },
  {
   "cell_type": "code",
   "execution_count": 60,
   "id": "80df4adc",
   "metadata": {},
   "outputs": [
    {
     "name": "stdout",
     "output_type": "stream",
     "text": [
      "[[846 269]\n",
      " [ 11  53]]\n"
     ]
    }
   ],
   "source": [
    "# Display the confusion matrix\n",
    "matrix = confusion_matrix(y_test, y_pred)\n",
    "print(matrix)"
   ]
  },
  {
   "cell_type": "code",
   "execution_count": 61,
   "id": "553d2bc8",
   "metadata": {},
   "outputs": [
    {
     "name": "stdout",
     "output_type": "stream",
     "text": [
      "              precision    recall  f1-score   support\n",
      "\n",
      "           0       0.99      0.76      0.86      1115\n",
      "           1       0.16      0.83      0.27        64\n",
      "\n",
      "    accuracy                           0.76      1179\n",
      "   macro avg       0.58      0.79      0.57      1179\n",
      "weighted avg       0.94      0.76      0.83      1179\n",
      "\n"
     ]
    }
   ],
   "source": [
    "report = classification_report(y_test, y_pred)\n",
    "print(report)"
   ]
  },
  {
   "cell_type": "markdown",
   "id": "07706cbe",
   "metadata": {},
   "source": [
    "# Random Forest"
   ]
  },
  {
   "cell_type": "code",
   "execution_count": 62,
   "id": "a6e995f2",
   "metadata": {},
   "outputs": [],
   "source": [
    "from sklearn.ensemble import RandomForestClassifier\n",
    "from sklearn.linear_model import LogisticRegression"
   ]
  },
  {
   "cell_type": "code",
   "execution_count": 63,
   "id": "e27b1e2a",
   "metadata": {},
   "outputs": [
    {
     "name": "stdout",
     "output_type": "stream",
     "text": [
      "Training Score: 1.0\n",
      "Testing Score: 0.9440203562340967\n"
     ]
    }
   ],
   "source": [
    "#clf = RandomForestClassifier(random_state=1, n_estimators=500).fit(X_train_scaled, y_train)\n",
    "rf = RandomForestClassifier(random_state=1, n_estimators=500).fit(X_resampled_scaled, y_resampled)\n",
    "#print(f'Training Score: {clf.score(X_train_scaled, y_train)}')\n",
    "print(f'Training Score: {rf.score(X_resampled_scaled, y_resampled)}')\n",
    "print(f'Testing Score: {rf.score(X_test_scaled, y_test)}')"
   ]
  },
  {
   "cell_type": "code",
   "execution_count": 64,
   "id": "790d448f",
   "metadata": {},
   "outputs": [
    {
     "data": {
      "text/plain": [
       "array([0.21864758, 0.11625168, 0.03703195, 0.06293644, 0.04060651,\n",
       "       0.0337005 , 0.02922794, 0.0637567 , 0.06452371, 0.01521187,\n",
       "       0.00140493, 0.05097201, 0.0231454 , 0.00715348, 0.04204984,\n",
       "       0.04094915, 0.05031048, 0.0328193 , 0.04342011, 0.02588043])"
      ]
     },
     "execution_count": 64,
     "metadata": {},
     "output_type": "execute_result"
    }
   ],
   "source": [
    "feature_importances = rf.feature_importances_\n",
    "feature_importances"
   ]
  },
  {
   "cell_type": "code",
   "execution_count": 65,
   "id": "c44e88f8",
   "metadata": {},
   "outputs": [],
   "source": [
    "from sklearn.metrics import accuracy_score"
   ]
  },
  {
   "cell_type": "code",
   "execution_count": 66,
   "id": "b8037831",
   "metadata": {},
   "outputs": [
    {
     "data": {
      "text/plain": [
       "0.0542832909245123"
      ]
     },
     "execution_count": 66,
     "metadata": {},
     "output_type": "execute_result"
    }
   ],
   "source": [
    "y_pred=rf.predict(X_test)\n",
    "accuracy_score(y_test, y_pred)"
   ]
  },
  {
   "cell_type": "code",
   "execution_count": 67,
   "id": "9386d46e",
   "metadata": {},
   "outputs": [
    {
     "data": {
      "text/html": [
       "<div>\n",
       "<style scoped>\n",
       "    .dataframe tbody tr th:only-of-type {\n",
       "        vertical-align: middle;\n",
       "    }\n",
       "\n",
       "    .dataframe tbody tr th {\n",
       "        vertical-align: top;\n",
       "    }\n",
       "\n",
       "    .dataframe thead th {\n",
       "        text-align: right;\n",
       "    }\n",
       "</style>\n",
       "<table border=\"1\" class=\"dataframe\">\n",
       "  <thead>\n",
       "    <tr style=\"text-align: right;\">\n",
       "      <th></th>\n",
       "      <th>Prediction</th>\n",
       "      <th>Actual</th>\n",
       "    </tr>\n",
       "  </thead>\n",
       "  <tbody>\n",
       "    <tr>\n",
       "      <th>0</th>\n",
       "      <td>1</td>\n",
       "      <td>0</td>\n",
       "    </tr>\n",
       "    <tr>\n",
       "      <th>1</th>\n",
       "      <td>1</td>\n",
       "      <td>0</td>\n",
       "    </tr>\n",
       "    <tr>\n",
       "      <th>2</th>\n",
       "      <td>1</td>\n",
       "      <td>0</td>\n",
       "    </tr>\n",
       "    <tr>\n",
       "      <th>3</th>\n",
       "      <td>1</td>\n",
       "      <td>0</td>\n",
       "    </tr>\n",
       "    <tr>\n",
       "      <th>4</th>\n",
       "      <td>1</td>\n",
       "      <td>0</td>\n",
       "    </tr>\n",
       "  </tbody>\n",
       "</table>\n",
       "</div>"
      ],
      "text/plain": [
       "   Prediction  Actual\n",
       "0           1       0\n",
       "1           1       0\n",
       "2           1       0\n",
       "3           1       0\n",
       "4           1       0"
      ]
     },
     "execution_count": 67,
     "metadata": {},
     "output_type": "execute_result"
    }
   ],
   "source": [
    "y_pred = rf.predict(X_test)\n",
    "results = pd.DataFrame({\"Prediction\": y_pred, \"Actual\": y_test}).reset_index(drop=True)\n",
    "results.head(5)"
   ]
  },
  {
   "cell_type": "code",
   "execution_count": 68,
   "id": "6d8e00b6",
   "metadata": {},
   "outputs": [],
   "source": [
    "from sklearn.metrics import confusion_matrix\n",
    "from sklearn.metrics import classification_report"
   ]
  },
  {
   "cell_type": "code",
   "execution_count": 69,
   "id": "f1575a1f",
   "metadata": {},
   "outputs": [
    {
     "name": "stdout",
     "output_type": "stream",
     "text": [
      "[[   0 1115]\n",
      " [   0   64]]\n"
     ]
    }
   ],
   "source": [
    "cm = confusion_matrix(y_test, y_pred)\n",
    "print(cm)"
   ]
  },
  {
   "cell_type": "code",
   "execution_count": 70,
   "id": "1b79ae74",
   "metadata": {},
   "outputs": [
    {
     "name": "stdout",
     "output_type": "stream",
     "text": [
      "              precision    recall  f1-score   support\n",
      "\n",
      "           0       0.00      0.00      0.00      1115\n",
      "           1       0.05      1.00      0.10        64\n",
      "\n",
      "    accuracy                           0.05      1179\n",
      "   macro avg       0.03      0.50      0.05      1179\n",
      "weighted avg       0.00      0.05      0.01      1179\n",
      "\n"
     ]
    },
    {
     "name": "stderr",
     "output_type": "stream",
     "text": [
      "/Users/bradroberts/opt/anaconda3/envs/mlenv/lib/python3.7/site-packages/sklearn/metrics/_classification.py:1318: UndefinedMetricWarning: Precision and F-score are ill-defined and being set to 0.0 in labels with no predicted samples. Use `zero_division` parameter to control this behavior.\n",
      "  _warn_prf(average, modifier, msg_start, len(result))\n",
      "/Users/bradroberts/opt/anaconda3/envs/mlenv/lib/python3.7/site-packages/sklearn/metrics/_classification.py:1318: UndefinedMetricWarning: Precision and F-score are ill-defined and being set to 0.0 in labels with no predicted samples. Use `zero_division` parameter to control this behavior.\n",
      "  _warn_prf(average, modifier, msg_start, len(result))\n",
      "/Users/bradroberts/opt/anaconda3/envs/mlenv/lib/python3.7/site-packages/sklearn/metrics/_classification.py:1318: UndefinedMetricWarning: Precision and F-score are ill-defined and being set to 0.0 in labels with no predicted samples. Use `zero_division` parameter to control this behavior.\n",
      "  _warn_prf(average, modifier, msg_start, len(result))\n"
     ]
    }
   ],
   "source": [
    "report = classification_report(y_test, y_pred)\n",
    "print(report)"
   ]
  },
  {
   "cell_type": "markdown",
   "id": "bb748e19",
   "metadata": {},
   "source": [
    "# Neural Network Model"
   ]
  },
  {
   "cell_type": "code",
   "execution_count": 71,
   "id": "58f7596e",
   "metadata": {},
   "outputs": [],
   "source": [
    "import tensorflow as tf"
   ]
  },
  {
   "cell_type": "code",
   "execution_count": 72,
   "id": "2ebaf85a",
   "metadata": {},
   "outputs": [
    {
     "name": "stdout",
     "output_type": "stream",
     "text": [
      "Model: \"sequential\"\n",
      "_________________________________________________________________\n",
      "Layer (type)                 Output Shape              Param #   \n",
      "=================================================================\n",
      "dense (Dense)                (None, 8)                 168       \n",
      "_________________________________________________________________\n",
      "dense_1 (Dense)              (None, 5)                 45        \n",
      "_________________________________________________________________\n",
      "dense_2 (Dense)              (None, 1)                 6         \n",
      "=================================================================\n",
      "Total params: 219\n",
      "Trainable params: 219\n",
      "Non-trainable params: 0\n",
      "_________________________________________________________________\n"
     ]
    },
    {
     "name": "stderr",
     "output_type": "stream",
     "text": [
      "2022-06-01 14:07:20.773471: I tensorflow/core/platform/cpu_feature_guard.cc:142] This TensorFlow binary is optimized with oneAPI Deep Neural Network Library (oneDNN) to use the following CPU instructions in performance-critical operations:  SSE4.1 SSE4.2 AVX AVX2 FMA\n",
      "To enable them in other operations, rebuild TensorFlow with the appropriate compiler flags.\n"
     ]
    }
   ],
   "source": [
    "# Define the model - deep neural net\n",
    "number_input_features = len(X_train[0])\n",
    "hidden_nodes_layer1 =  8\n",
    "hidden_nodes_layer2 = 5\n",
    "\n",
    "nn = tf.keras.models.Sequential()\n",
    "\n",
    "# First hidden layer\n",
    "nn.add(\n",
    "    tf.keras.layers.Dense(units=hidden_nodes_layer1, input_dim=number_input_features, activation=\"relu\")\n",
    ")\n",
    "\n",
    "# Second hidden layer\n",
    "nn.add(tf.keras.layers.Dense(units=hidden_nodes_layer2, activation=\"relu\"))\n",
    "\n",
    "# Output layer\n",
    "nn.add(tf.keras.layers.Dense(units=1, activation=\"sigmoid\"))\n",
    "\n",
    "# Check the structure of the model\n",
    "nn.summary()"
   ]
  },
  {
   "cell_type": "code",
   "execution_count": 73,
   "id": "e17f05a4",
   "metadata": {},
   "outputs": [],
   "source": [
    "# Compile the model and define loss and accuracy\n",
    "nn.compile(loss=\"binary_crossentropy\", optimizer=\"adam\", metrics=[\"accuracy\"])"
   ]
  },
  {
   "cell_type": "code",
   "execution_count": 74,
   "id": "835607aa",
   "metadata": {},
   "outputs": [
    {
     "name": "stderr",
     "output_type": "stream",
     "text": [
      "2022-06-01 14:07:24.638923: I tensorflow/compiler/mlir/mlir_graph_optimization_pass.cc:116] None of the MLIR optimization passes are enabled (registered 2)\n"
     ]
    },
    {
     "name": "stdout",
     "output_type": "stream",
     "text": [
      "Epoch 1/100\n",
      "212/212 [==============================] - 1s 1ms/step - loss: 0.7744 - accuracy: 0.4727\n",
      "Epoch 2/100\n",
      "212/212 [==============================] - 0s 2ms/step - loss: 0.6043 - accuracy: 0.7188\n",
      "Epoch 3/100\n",
      "212/212 [==============================] - 0s 2ms/step - loss: 0.5040 - accuracy: 0.7933\n",
      "Epoch 4/100\n",
      "212/212 [==============================] - 0s 2ms/step - loss: 0.4489 - accuracy: 0.8029\n",
      "Epoch 5/100\n",
      "212/212 [==============================] - 0s 1ms/step - loss: 0.4225 - accuracy: 0.8155\n",
      "Epoch 6/100\n",
      "212/212 [==============================] - 0s 1ms/step - loss: 0.4059 - accuracy: 0.8168\n",
      "Epoch 7/100\n",
      "212/212 [==============================] - 0s 1ms/step - loss: 0.3961 - accuracy: 0.8198\n",
      "Epoch 8/100\n",
      "212/212 [==============================] - 0s 1ms/step - loss: 0.3717 - accuracy: 0.8310\n",
      "Epoch 9/100\n",
      "212/212 [==============================] - 0s 1ms/step - loss: 0.3693 - accuracy: 0.8375\n",
      "Epoch 10/100\n",
      "212/212 [==============================] - 0s 1ms/step - loss: 0.3426 - accuracy: 0.8545\n",
      "Epoch 11/100\n",
      "212/212 [==============================] - 0s 1ms/step - loss: 0.3503 - accuracy: 0.8497\n",
      "Epoch 12/100\n",
      "212/212 [==============================] - 0s 1ms/step - loss: 0.3481 - accuracy: 0.8479\n",
      "Epoch 13/100\n",
      "212/212 [==============================] - 0s 1ms/step - loss: 0.3345 - accuracy: 0.8598\n",
      "Epoch 14/100\n",
      "212/212 [==============================] - 0s 1ms/step - loss: 0.3311 - accuracy: 0.8607\n",
      "Epoch 15/100\n",
      "212/212 [==============================] - 0s 1ms/step - loss: 0.3311 - accuracy: 0.8614\n",
      "Epoch 16/100\n",
      "212/212 [==============================] - 0s 1ms/step - loss: 0.3207 - accuracy: 0.8650\n",
      "Epoch 17/100\n",
      "212/212 [==============================] - 0s 1ms/step - loss: 0.3157 - accuracy: 0.8719\n",
      "Epoch 18/100\n",
      "212/212 [==============================] - 0s 1ms/step - loss: 0.3249 - accuracy: 0.8611\n",
      "Epoch 19/100\n",
      "212/212 [==============================] - 0s 1ms/step - loss: 0.2927 - accuracy: 0.8770\n",
      "Epoch 20/100\n",
      "212/212 [==============================] - 0s 1ms/step - loss: 0.3105 - accuracy: 0.8727\n",
      "Epoch 21/100\n",
      "212/212 [==============================] - 0s 1ms/step - loss: 0.3059 - accuracy: 0.8742\n",
      "Epoch 22/100\n",
      "212/212 [==============================] - 0s 1ms/step - loss: 0.3071 - accuracy: 0.8760\n",
      "Epoch 23/100\n",
      "212/212 [==============================] - 0s 1ms/step - loss: 0.2921 - accuracy: 0.8818\n",
      "Epoch 24/100\n",
      "212/212 [==============================] - 0s 1ms/step - loss: 0.2972 - accuracy: 0.8785\n",
      "Epoch 25/100\n",
      "212/212 [==============================] - 0s 1ms/step - loss: 0.2978 - accuracy: 0.8754\n",
      "Epoch 26/100\n",
      "212/212 [==============================] - 0s 1ms/step - loss: 0.2954 - accuracy: 0.8799\n",
      "Epoch 27/100\n",
      "212/212 [==============================] - 0s 1ms/step - loss: 0.2848 - accuracy: 0.8849\n",
      "Epoch 28/100\n",
      "212/212 [==============================] - 0s 1ms/step - loss: 0.2825 - accuracy: 0.8894\n",
      "Epoch 29/100\n",
      "212/212 [==============================] - 0s 2ms/step - loss: 0.2797 - accuracy: 0.8889\n",
      "Epoch 30/100\n",
      "212/212 [==============================] - 0s 1ms/step - loss: 0.2842 - accuracy: 0.8831\n",
      "Epoch 31/100\n",
      "212/212 [==============================] - 0s 1ms/step - loss: 0.2717 - accuracy: 0.8948\n",
      "Epoch 32/100\n",
      "212/212 [==============================] - 0s 1ms/step - loss: 0.2851 - accuracy: 0.8807\n",
      "Epoch 33/100\n",
      "212/212 [==============================] - 0s 1ms/step - loss: 0.2833 - accuracy: 0.8902\n",
      "Epoch 34/100\n",
      "212/212 [==============================] - 0s 1ms/step - loss: 0.2711 - accuracy: 0.8915\n",
      "Epoch 35/100\n",
      "212/212 [==============================] - 0s 1ms/step - loss: 0.2778 - accuracy: 0.8922\n",
      "Epoch 36/100\n",
      "212/212 [==============================] - 0s 1ms/step - loss: 0.2639 - accuracy: 0.8918\n",
      "Epoch 37/100\n",
      "212/212 [==============================] - 0s 1ms/step - loss: 0.2800 - accuracy: 0.8825\n",
      "Epoch 38/100\n",
      "212/212 [==============================] - 0s 1ms/step - loss: 0.2771 - accuracy: 0.8903: 0s - loss: 0.2774 - accuracy: 0.89\n",
      "Epoch 39/100\n",
      "212/212 [==============================] - 0s 2ms/step - loss: 0.2775 - accuracy: 0.8867\n",
      "Epoch 40/100\n",
      "212/212 [==============================] - 0s 1ms/step - loss: 0.2531 - accuracy: 0.9004\n",
      "Epoch 41/100\n",
      "212/212 [==============================] - 0s 2ms/step - loss: 0.2732 - accuracy: 0.8890\n",
      "Epoch 42/100\n",
      "212/212 [==============================] - 0s 2ms/step - loss: 0.2618 - accuracy: 0.8966\n",
      "Epoch 43/100\n",
      "212/212 [==============================] - 0s 2ms/step - loss: 0.2631 - accuracy: 0.8990\n",
      "Epoch 44/100\n",
      "212/212 [==============================] - 0s 1ms/step - loss: 0.2548 - accuracy: 0.9006\n",
      "Epoch 45/100\n",
      "212/212 [==============================] - 0s 1ms/step - loss: 0.2520 - accuracy: 0.9057\n",
      "Epoch 46/100\n",
      "212/212 [==============================] - 0s 2ms/step - loss: 0.2642 - accuracy: 0.8893\n",
      "Epoch 47/100\n",
      "212/212 [==============================] - 0s 2ms/step - loss: 0.2481 - accuracy: 0.9024\n",
      "Epoch 48/100\n",
      "212/212 [==============================] - 0s 2ms/step - loss: 0.2548 - accuracy: 0.8885\n",
      "Epoch 49/100\n",
      "212/212 [==============================] - 0s 2ms/step - loss: 0.2476 - accuracy: 0.8959\n",
      "Epoch 50/100\n",
      "212/212 [==============================] - 0s 1ms/step - loss: 0.2461 - accuracy: 0.9005\n",
      "Epoch 51/100\n",
      "212/212 [==============================] - 0s 2ms/step - loss: 0.2455 - accuracy: 0.9040\n",
      "Epoch 52/100\n",
      "212/212 [==============================] - 0s 1ms/step - loss: 0.2522 - accuracy: 0.9015\n",
      "Epoch 53/100\n",
      "212/212 [==============================] - 0s 1ms/step - loss: 0.2451 - accuracy: 0.8955\n",
      "Epoch 54/100\n",
      "212/212 [==============================] - 0s 2ms/step - loss: 0.2519 - accuracy: 0.8993\n",
      "Epoch 55/100\n",
      "212/212 [==============================] - 0s 1ms/step - loss: 0.2485 - accuracy: 0.9012\n",
      "Epoch 56/100\n",
      "212/212 [==============================] - 0s 1ms/step - loss: 0.2439 - accuracy: 0.9019\n",
      "Epoch 57/100\n",
      "212/212 [==============================] - 0s 1ms/step - loss: 0.2347 - accuracy: 0.9099\n",
      "Epoch 58/100\n",
      "212/212 [==============================] - 0s 1ms/step - loss: 0.2293 - accuracy: 0.9096\n",
      "Epoch 59/100\n",
      "212/212 [==============================] - 0s 2ms/step - loss: 0.2486 - accuracy: 0.9032\n",
      "Epoch 60/100\n",
      "212/212 [==============================] - 0s 2ms/step - loss: 0.2433 - accuracy: 0.9016\n",
      "Epoch 61/100\n",
      "212/212 [==============================] - 0s 1ms/step - loss: 0.2568 - accuracy: 0.8956\n",
      "Epoch 62/100\n",
      "212/212 [==============================] - 0s 1ms/step - loss: 0.2302 - accuracy: 0.9080\n",
      "Epoch 63/100\n",
      "212/212 [==============================] - 1s 2ms/step - loss: 0.2490 - accuracy: 0.9008\n",
      "Epoch 64/100\n",
      "212/212 [==============================] - 0s 2ms/step - loss: 0.2346 - accuracy: 0.9056\n",
      "Epoch 65/100\n",
      "212/212 [==============================] - 0s 2ms/step - loss: 0.2367 - accuracy: 0.9063\n",
      "Epoch 66/100\n",
      "212/212 [==============================] - 0s 1ms/step - loss: 0.2516 - accuracy: 0.9002\n",
      "Epoch 67/100\n",
      "212/212 [==============================] - 0s 2ms/step - loss: 0.2387 - accuracy: 0.9057\n",
      "Epoch 68/100\n",
      "212/212 [==============================] - 0s 2ms/step - loss: 0.2339 - accuracy: 0.9113\n",
      "Epoch 69/100\n",
      "212/212 [==============================] - 0s 2ms/step - loss: 0.2396 - accuracy: 0.9039\n",
      "Epoch 70/100\n",
      "212/212 [==============================] - 0s 1ms/step - loss: 0.2326 - accuracy: 0.9072\n",
      "Epoch 71/100\n",
      "212/212 [==============================] - 0s 1ms/step - loss: 0.2305 - accuracy: 0.9072\n",
      "Epoch 72/100\n",
      "212/212 [==============================] - 0s 1ms/step - loss: 0.2341 - accuracy: 0.9016\n",
      "Epoch 73/100\n",
      "212/212 [==============================] - 0s 1ms/step - loss: 0.2389 - accuracy: 0.9050\n",
      "Epoch 74/100\n",
      "212/212 [==============================] - 0s 1ms/step - loss: 0.2297 - accuracy: 0.9072\n",
      "Epoch 75/100\n",
      "212/212 [==============================] - 0s 1ms/step - loss: 0.2327 - accuracy: 0.9065\n",
      "Epoch 76/100\n",
      "212/212 [==============================] - 0s 1ms/step - loss: 0.2469 - accuracy: 0.9056\n",
      "Epoch 77/100\n",
      "212/212 [==============================] - 0s 1ms/step - loss: 0.2326 - accuracy: 0.9027\n",
      "Epoch 78/100\n",
      "212/212 [==============================] - 0s 1ms/step - loss: 0.2418 - accuracy: 0.9038\n",
      "Epoch 79/100\n",
      "212/212 [==============================] - 0s 1ms/step - loss: 0.2408 - accuracy: 0.9036\n",
      "Epoch 80/100\n",
      "212/212 [==============================] - 0s 1ms/step - loss: 0.2326 - accuracy: 0.9066\n",
      "Epoch 81/100\n"
     ]
    },
    {
     "name": "stdout",
     "output_type": "stream",
     "text": [
      "212/212 [==============================] - 0s 1ms/step - loss: 0.2255 - accuracy: 0.9102\n",
      "Epoch 82/100\n",
      "212/212 [==============================] - 0s 1ms/step - loss: 0.2365 - accuracy: 0.9059\n",
      "Epoch 83/100\n",
      "212/212 [==============================] - 0s 1ms/step - loss: 0.2244 - accuracy: 0.9098\n",
      "Epoch 84/100\n",
      "212/212 [==============================] - 0s 1ms/step - loss: 0.2304 - accuracy: 0.9074\n",
      "Epoch 85/100\n",
      "212/212 [==============================] - 0s 1ms/step - loss: 0.2243 - accuracy: 0.9128\n",
      "Epoch 86/100\n",
      "212/212 [==============================] - 0s 1ms/step - loss: 0.2210 - accuracy: 0.9176\n",
      "Epoch 87/100\n",
      "212/212 [==============================] - 0s 1ms/step - loss: 0.2388 - accuracy: 0.9044\n",
      "Epoch 88/100\n",
      "212/212 [==============================] - 0s 1ms/step - loss: 0.2253 - accuracy: 0.9141\n",
      "Epoch 89/100\n",
      "212/212 [==============================] - 0s 1ms/step - loss: 0.2336 - accuracy: 0.9068\n",
      "Epoch 90/100\n",
      "212/212 [==============================] - 0s 1ms/step - loss: 0.2258 - accuracy: 0.9137\n",
      "Epoch 91/100\n",
      "212/212 [==============================] - 0s 1ms/step - loss: 0.2329 - accuracy: 0.9079\n",
      "Epoch 92/100\n",
      "212/212 [==============================] - 0s 1ms/step - loss: 0.2253 - accuracy: 0.9118\n",
      "Epoch 93/100\n",
      "212/212 [==============================] - 0s 1ms/step - loss: 0.2140 - accuracy: 0.9158\n",
      "Epoch 94/100\n",
      "212/212 [==============================] - 0s 1ms/step - loss: 0.2267 - accuracy: 0.9147\n",
      "Epoch 95/100\n",
      "212/212 [==============================] - 0s 1ms/step - loss: 0.2204 - accuracy: 0.9128\n",
      "Epoch 96/100\n",
      "212/212 [==============================] - 0s 1ms/step - loss: 0.2271 - accuracy: 0.9125\n",
      "Epoch 97/100\n",
      "212/212 [==============================] - 0s 1ms/step - loss: 0.2181 - accuracy: 0.9151\n",
      "Epoch 98/100\n",
      "212/212 [==============================] - 0s 1ms/step - loss: 0.2256 - accuracy: 0.9135\n",
      "Epoch 99/100\n",
      "212/212 [==============================] - 0s 1ms/step - loss: 0.2269 - accuracy: 0.9130\n",
      "Epoch 100/100\n",
      "212/212 [==============================] - 0s 1ms/step - loss: 0.2237 - accuracy: 0.9162\n"
     ]
    }
   ],
   "source": [
    "\n",
    "# Train the model\n",
    "#fit_model = nn.fit(X_train_scaled,y_train,epochs=100)\n",
    "fit_model = nn.fit(X_resampled_scaled,y_resampled,epochs=100)"
   ]
  },
  {
   "cell_type": "code",
   "execution_count": 75,
   "id": "3001c866",
   "metadata": {},
   "outputs": [
    {
     "name": "stdout",
     "output_type": "stream",
     "text": [
      "37/37 - 0s - loss: 0.3744 - accuracy: 0.8499\n",
      "Loss: 0.37443795800209045, Accuracy: 0.8498727679252625\n"
     ]
    }
   ],
   "source": [
    "# Evaluate the model using the test data\n",
    "model_loss, model_accuracy = nn.evaluate(X_test_scaled,y_test,verbose=2)\n",
    "print(f\"Loss: {model_loss}, Accuracy: {model_accuracy}\")"
   ]
  },
  {
   "cell_type": "code",
   "execution_count": null,
   "id": "80d9d3de",
   "metadata": {},
   "outputs": [],
   "source": []
  }
 ],
 "metadata": {
  "kernelspec": {
   "display_name": "Python (mlenv)",
   "language": "python",
   "name": "mlenv"
  },
  "language_info": {
   "codemirror_mode": {
    "name": "ipython",
    "version": 3
   },
   "file_extension": ".py",
   "mimetype": "text/x-python",
   "name": "python",
   "nbconvert_exporter": "python",
   "pygments_lexer": "ipython3",
   "version": "3.7.11"
  }
 },
 "nbformat": 4,
 "nbformat_minor": 5
}
