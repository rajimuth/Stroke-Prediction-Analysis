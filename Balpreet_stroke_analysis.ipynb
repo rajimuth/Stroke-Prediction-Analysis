{
 "cells": [
  {
   "cell_type": "code",
   "execution_count": null,
   "id": "f1c30fad",
   "metadata": {},
   "outputs": [],
   "source": [
    "# Importing dependencies\n",
    "import pandas as pd\n",
    "import hvplot.pandas\n",
    "from path import Path\n",
    "import plotly.express as px\n",
    "from sklearn.preprocessing import StandardScaler, MinMaxScaler\n",
    "from sklearn.decomposition import PCA\n",
    "from sklearn.cluster import KMeans"
   ]
  },
  {
   "cell_type": "code",
   "execution_count": null,
   "id": "c71d86c3",
   "metadata": {},
   "outputs": [],
   "source": [
    "# Load the crypto_data.csv dataset.\n",
    "file_path=(\"healthcare-dataset-stroke-data.csv\")\n",
    "stroke_df=pd.read_csv(file_path)\n",
    "print(stroke_df.shape)\n",
    "stroke_df.head(10)"
   ]
  },
  {
   "cell_type": "code",
   "execution_count": null,
   "id": "bb8a95a8",
   "metadata": {},
   "outputs": [],
   "source": [
    "# Remove \"ID\" column\n",
    "stroke_all_df= stroke_df.drop(\"id\",axis=1)\n",
    "stroke_all_df.head()"
   ]
  },
  {
   "cell_type": "code",
   "execution_count": null,
   "id": "5f5ca5b8",
   "metadata": {},
   "outputs": [],
   "source": [
    "# Rename Column Names\n",
    "column =[\"Gender\",\"Age\",\"Hypertension\",\"Heart_Disease\",\"Ever_Married\",\"Work_Type\",\"Residence_Type\",\"Average_Glucoce\",\"BMI\",\"Smoking_Status\",\"Stroke\"]\n",
    "stroke_all_df.columns=column\n",
    "stroke_all_df.head()"
   ]
  },
  {
   "cell_type": "code",
   "execution_count": null,
   "id": "05499023",
   "metadata": {},
   "outputs": [],
   "source": [
    "# Look for NAN\n",
    "stroke_all_df.isnull().values.sum()"
   ]
  },
  {
   "cell_type": "code",
   "execution_count": null,
   "id": "368308ad",
   "metadata": {},
   "outputs": [],
   "source": [
    "# Drop BMI NAN values from stroke_all_df\n",
    "stroke_df = stroke_all_df.dropna()"
   ]
  },
  {
   "cell_type": "markdown",
   "id": "bd5f221b",
   "metadata": {},
   "source": [
    "# NAN count in the new dataframe stroke_df\n",
    "stroke_df[column].isnull().sum()"
   ]
  },
  {
   "cell_type": "code",
   "execution_count": null,
   "id": "dffb9d9b",
   "metadata": {},
   "outputs": [],
   "source": [
    "# Shape of the new dataframe stroke_df\n",
    "stroke_df.shape"
   ]
  },
  {
   "cell_type": "code",
   "execution_count": null,
   "id": "744536ac",
   "metadata": {},
   "outputs": [],
   "source": [
    "# Look for datatypes\n",
    "stroke_df.dtypes"
   ]
  },
  {
   "cell_type": "code",
   "execution_count": null,
   "id": "9e56e52a",
   "metadata": {},
   "outputs": [],
   "source": [
    "# Storing the stroke_df with NaN rows removed as a separate CSV\n",
    "stroke_df.to_csv(\"stroke_no_NaN.csv\")"
   ]
  }
 ],
 "metadata": {
  "kernelspec": {
   "display_name": "PythonData",
   "language": "python",
   "name": "pythondata"
  },
  "language_info": {
   "codemirror_mode": {
    "name": "ipython",
    "version": 3
   },
   "file_extension": ".py",
   "mimetype": "text/x-python",
   "name": "python",
   "nbconvert_exporter": "python",
   "pygments_lexer": "ipython3",
   "version": "3.7.11"
  }
 },
 "nbformat": 4,
 "nbformat_minor": 5
}
