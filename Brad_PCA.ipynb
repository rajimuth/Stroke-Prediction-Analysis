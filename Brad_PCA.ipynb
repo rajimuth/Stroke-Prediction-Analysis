{
 "cells": [
  {
   "cell_type": "code",
   "execution_count": 1,
   "id": "abd4934b",
   "metadata": {},
   "outputs": [],
   "source": [
    "# Initial imports\n",
    "import pandas as pd\n",
    "from pathlib import Path\n",
    "from sklearn.preprocessing import StandardScaler\n",
    "from sklearn.decomposition import PCA\n",
    "from sklearn.cluster import KMeans"
   ]
  },
  {
   "cell_type": "code",
   "execution_count": 2,
   "id": "3623610d",
   "metadata": {},
   "outputs": [
    {
     "data": {
      "text/html": [
       "<div>\n",
       "<style scoped>\n",
       "    .dataframe tbody tr th:only-of-type {\n",
       "        vertical-align: middle;\n",
       "    }\n",
       "\n",
       "    .dataframe tbody tr th {\n",
       "        vertical-align: top;\n",
       "    }\n",
       "\n",
       "    .dataframe thead th {\n",
       "        text-align: right;\n",
       "    }\n",
       "</style>\n",
       "<table border=\"1\" class=\"dataframe\">\n",
       "  <thead>\n",
       "    <tr style=\"text-align: right;\">\n",
       "      <th></th>\n",
       "      <th>Unnamed: 0</th>\n",
       "      <th>Gender</th>\n",
       "      <th>Age</th>\n",
       "      <th>Hypertension</th>\n",
       "      <th>Heart_Disease</th>\n",
       "      <th>Ever_Married</th>\n",
       "      <th>Work_Type</th>\n",
       "      <th>Residence_Type</th>\n",
       "      <th>Average_Glucose</th>\n",
       "      <th>BMI</th>\n",
       "      <th>Smoking_Status</th>\n",
       "      <th>Stroke</th>\n",
       "    </tr>\n",
       "  </thead>\n",
       "  <tbody>\n",
       "    <tr>\n",
       "      <th>0</th>\n",
       "      <td>0</td>\n",
       "      <td>1</td>\n",
       "      <td>67.0</td>\n",
       "      <td>0</td>\n",
       "      <td>1</td>\n",
       "      <td>1</td>\n",
       "      <td>2</td>\n",
       "      <td>1</td>\n",
       "      <td>228.69</td>\n",
       "      <td>36.6</td>\n",
       "      <td>1</td>\n",
       "      <td>1</td>\n",
       "    </tr>\n",
       "    <tr>\n",
       "      <th>1</th>\n",
       "      <td>2</td>\n",
       "      <td>1</td>\n",
       "      <td>80.0</td>\n",
       "      <td>0</td>\n",
       "      <td>1</td>\n",
       "      <td>1</td>\n",
       "      <td>2</td>\n",
       "      <td>0</td>\n",
       "      <td>105.92</td>\n",
       "      <td>32.5</td>\n",
       "      <td>2</td>\n",
       "      <td>1</td>\n",
       "    </tr>\n",
       "    <tr>\n",
       "      <th>2</th>\n",
       "      <td>3</td>\n",
       "      <td>0</td>\n",
       "      <td>49.0</td>\n",
       "      <td>0</td>\n",
       "      <td>0</td>\n",
       "      <td>1</td>\n",
       "      <td>2</td>\n",
       "      <td>1</td>\n",
       "      <td>171.23</td>\n",
       "      <td>34.4</td>\n",
       "      <td>3</td>\n",
       "      <td>1</td>\n",
       "    </tr>\n",
       "    <tr>\n",
       "      <th>3</th>\n",
       "      <td>4</td>\n",
       "      <td>0</td>\n",
       "      <td>79.0</td>\n",
       "      <td>1</td>\n",
       "      <td>0</td>\n",
       "      <td>1</td>\n",
       "      <td>3</td>\n",
       "      <td>0</td>\n",
       "      <td>174.12</td>\n",
       "      <td>24.0</td>\n",
       "      <td>2</td>\n",
       "      <td>1</td>\n",
       "    </tr>\n",
       "    <tr>\n",
       "      <th>4</th>\n",
       "      <td>5</td>\n",
       "      <td>1</td>\n",
       "      <td>81.0</td>\n",
       "      <td>0</td>\n",
       "      <td>0</td>\n",
       "      <td>1</td>\n",
       "      <td>2</td>\n",
       "      <td>1</td>\n",
       "      <td>186.21</td>\n",
       "      <td>29.0</td>\n",
       "      <td>1</td>\n",
       "      <td>1</td>\n",
       "    </tr>\n",
       "  </tbody>\n",
       "</table>\n",
       "</div>"
      ],
      "text/plain": [
       "   Unnamed: 0  Gender   Age  Hypertension  Heart_Disease  Ever_Married  \\\n",
       "0           0       1  67.0             0              1             1   \n",
       "1           2       1  80.0             0              1             1   \n",
       "2           3       0  49.0             0              0             1   \n",
       "3           4       0  79.0             1              0             1   \n",
       "4           5       1  81.0             0              0             1   \n",
       "\n",
       "   Work_Type  Residence_Type  Average_Glucose   BMI  Smoking_Status  Stroke  \n",
       "0          2               1           228.69  36.6               1       1  \n",
       "1          2               0           105.92  32.5               2       1  \n",
       "2          2               1           171.23  34.4               3       1  \n",
       "3          3               0           174.12  24.0               2       1  \n",
       "4          2               1           186.21  29.0               1       1  "
      ]
     },
     "execution_count": 2,
     "metadata": {},
     "output_type": "execute_result"
    }
   ],
   "source": [
    "# Load the data\n",
    "file_path = Path(\"../Stroke-Prediction-Analysis/stroke_encoded_no_NaN.csv\")\n",
    "stroke_df = pd.read_csv(file_path)\n",
    "stroke_df.head()"
   ]
  },
  {
   "cell_type": "code",
   "execution_count": 3,
   "id": "851bbe4d",
   "metadata": {},
   "outputs": [
    {
     "data": {
      "text/html": [
       "<div>\n",
       "<style scoped>\n",
       "    .dataframe tbody tr th:only-of-type {\n",
       "        vertical-align: middle;\n",
       "    }\n",
       "\n",
       "    .dataframe tbody tr th {\n",
       "        vertical-align: top;\n",
       "    }\n",
       "\n",
       "    .dataframe thead th {\n",
       "        text-align: right;\n",
       "    }\n",
       "</style>\n",
       "<table border=\"1\" class=\"dataframe\">\n",
       "  <thead>\n",
       "    <tr style=\"text-align: right;\">\n",
       "      <th></th>\n",
       "      <th>Gender</th>\n",
       "      <th>Age</th>\n",
       "      <th>Hypertension</th>\n",
       "      <th>Heart_Disease</th>\n",
       "      <th>Ever_Married</th>\n",
       "      <th>Work_Type</th>\n",
       "      <th>Residence_Type</th>\n",
       "      <th>Average_Glucose</th>\n",
       "      <th>BMI</th>\n",
       "      <th>Smoking_Status</th>\n",
       "      <th>Stroke</th>\n",
       "    </tr>\n",
       "  </thead>\n",
       "  <tbody>\n",
       "    <tr>\n",
       "      <th>0</th>\n",
       "      <td>1</td>\n",
       "      <td>67.0</td>\n",
       "      <td>0</td>\n",
       "      <td>1</td>\n",
       "      <td>1</td>\n",
       "      <td>2</td>\n",
       "      <td>1</td>\n",
       "      <td>228.69</td>\n",
       "      <td>36.6</td>\n",
       "      <td>1</td>\n",
       "      <td>1</td>\n",
       "    </tr>\n",
       "    <tr>\n",
       "      <th>1</th>\n",
       "      <td>1</td>\n",
       "      <td>80.0</td>\n",
       "      <td>0</td>\n",
       "      <td>1</td>\n",
       "      <td>1</td>\n",
       "      <td>2</td>\n",
       "      <td>0</td>\n",
       "      <td>105.92</td>\n",
       "      <td>32.5</td>\n",
       "      <td>2</td>\n",
       "      <td>1</td>\n",
       "    </tr>\n",
       "    <tr>\n",
       "      <th>2</th>\n",
       "      <td>0</td>\n",
       "      <td>49.0</td>\n",
       "      <td>0</td>\n",
       "      <td>0</td>\n",
       "      <td>1</td>\n",
       "      <td>2</td>\n",
       "      <td>1</td>\n",
       "      <td>171.23</td>\n",
       "      <td>34.4</td>\n",
       "      <td>3</td>\n",
       "      <td>1</td>\n",
       "    </tr>\n",
       "    <tr>\n",
       "      <th>3</th>\n",
       "      <td>0</td>\n",
       "      <td>79.0</td>\n",
       "      <td>1</td>\n",
       "      <td>0</td>\n",
       "      <td>1</td>\n",
       "      <td>3</td>\n",
       "      <td>0</td>\n",
       "      <td>174.12</td>\n",
       "      <td>24.0</td>\n",
       "      <td>2</td>\n",
       "      <td>1</td>\n",
       "    </tr>\n",
       "    <tr>\n",
       "      <th>4</th>\n",
       "      <td>1</td>\n",
       "      <td>81.0</td>\n",
       "      <td>0</td>\n",
       "      <td>0</td>\n",
       "      <td>1</td>\n",
       "      <td>2</td>\n",
       "      <td>1</td>\n",
       "      <td>186.21</td>\n",
       "      <td>29.0</td>\n",
       "      <td>1</td>\n",
       "      <td>1</td>\n",
       "    </tr>\n",
       "  </tbody>\n",
       "</table>\n",
       "</div>"
      ],
      "text/plain": [
       "   Gender   Age  Hypertension  Heart_Disease  Ever_Married  Work_Type  \\\n",
       "0       1  67.0             0              1             1          2   \n",
       "1       1  80.0             0              1             1          2   \n",
       "2       0  49.0             0              0             1          2   \n",
       "3       0  79.0             1              0             1          3   \n",
       "4       1  81.0             0              0             1          2   \n",
       "\n",
       "   Residence_Type  Average_Glucose   BMI  Smoking_Status  Stroke  \n",
       "0               1           228.69  36.6               1       1  \n",
       "1               0           105.92  32.5               2       1  \n",
       "2               1           171.23  34.4               3       1  \n",
       "3               0           174.12  24.0               2       1  \n",
       "4               1           186.21  29.0               1       1  "
      ]
     },
     "execution_count": 3,
     "metadata": {},
     "output_type": "execute_result"
    }
   ],
   "source": [
    "# Remove \"ID\" column\n",
    "stroke_df= stroke_df.drop('Unnamed: 0',axis=1)\n",
    "stroke_df.head()"
   ]
  },
  {
   "cell_type": "code",
   "execution_count": 4,
   "id": "2d7fb97d",
   "metadata": {},
   "outputs": [
    {
     "name": "stdout",
     "output_type": "stream",
     "text": [
      "[[ 1.20024032  1.06993757 -0.31810241  4.3814987   0.72927032 -0.15571291\n",
      "   0.98543612  2.77779723  0.98114481 -0.35182832  4.74165093]\n",
      " [ 1.20024032  1.64633634 -0.31810241  4.3814987   0.72927032 -0.15571291\n",
      "  -1.01477913  0.01401584  0.45908589  0.58510786  4.74165093]\n",
      " [-0.83316648  0.27184695 -0.31810241 -0.22823241  0.72927032 -0.15571291\n",
      "   0.98543612  1.48426559  0.70101563  1.52204404  4.74165093]\n",
      " [-0.83316648  1.60199798  3.14364174 -0.22823241  0.72927032  0.75954335\n",
      "  -1.01477913  1.54932488 -0.62323138  0.58510786  4.74165093]\n",
      " [ 1.20024032  1.69067471 -0.31810241 -0.22823241  0.72927032 -0.15571291\n",
      "   0.98543612  1.8214933   0.01342584 -0.35182832  4.74165093]]\n"
     ]
    }
   ],
   "source": [
    "# Standardize the data\n",
    "stroke_scaled = StandardScaler().fit_transform(stroke_df)\n",
    "print(stroke_scaled[0:5])"
   ]
  },
  {
   "cell_type": "code",
   "execution_count": 5,
   "id": "2152a975",
   "metadata": {},
   "outputs": [],
   "source": [
    "# Initialize PCA model\n",
    "pca = PCA(n_components=2)\n",
    "\n",
    "# Get two principal components for the data.\n",
    "stroke_pca = pca.fit_transform(stroke_scaled)"
   ]
  },
  {
   "cell_type": "code",
   "execution_count": 6,
   "id": "fc2ee2f5",
   "metadata": {},
   "outputs": [
    {
     "data": {
      "text/html": [
       "<div>\n",
       "<style scoped>\n",
       "    .dataframe tbody tr th:only-of-type {\n",
       "        vertical-align: middle;\n",
       "    }\n",
       "\n",
       "    .dataframe tbody tr th {\n",
       "        vertical-align: top;\n",
       "    }\n",
       "\n",
       "    .dataframe thead th {\n",
       "        text-align: right;\n",
       "    }\n",
       "</style>\n",
       "<table border=\"1\" class=\"dataframe\">\n",
       "  <thead>\n",
       "    <tr style=\"text-align: right;\">\n",
       "      <th></th>\n",
       "      <th>principal component 1</th>\n",
       "      <th>principal component 2</th>\n",
       "    </tr>\n",
       "  </thead>\n",
       "  <tbody>\n",
       "    <tr>\n",
       "      <th>0</th>\n",
       "      <td>3.366829</td>\n",
       "      <td>5.062353</td>\n",
       "    </tr>\n",
       "    <tr>\n",
       "      <th>1</th>\n",
       "      <td>3.112444</td>\n",
       "      <td>3.904107</td>\n",
       "    </tr>\n",
       "    <tr>\n",
       "      <th>2</th>\n",
       "      <td>2.344761</td>\n",
       "      <td>1.250854</td>\n",
       "    </tr>\n",
       "    <tr>\n",
       "      <th>3</th>\n",
       "      <td>2.791735</td>\n",
       "      <td>3.318528</td>\n",
       "    </tr>\n",
       "    <tr>\n",
       "      <th>4</th>\n",
       "      <td>2.270985</td>\n",
       "      <td>2.808796</td>\n",
       "    </tr>\n",
       "  </tbody>\n",
       "</table>\n",
       "</div>"
      ],
      "text/plain": [
       "   principal component 1  principal component 2\n",
       "0               3.366829               5.062353\n",
       "1               3.112444               3.904107\n",
       "2               2.344761               1.250854\n",
       "3               2.791735               3.318528\n",
       "4               2.270985               2.808796"
      ]
     },
     "execution_count": 6,
     "metadata": {},
     "output_type": "execute_result"
    }
   ],
   "source": [
    "# Transform PCA data to a DataFrame\n",
    "stroke_df_pca = pd.DataFrame(\n",
    "    data=stroke_pca, columns=[\"principal component 1\", \"principal component 2\",]\n",
    ")\n",
    "stroke_df_pca.head()"
   ]
  },
  {
   "cell_type": "code",
   "execution_count": 7,
   "id": "41c9b6b2",
   "metadata": {},
   "outputs": [
    {
     "data": {
      "text/plain": [
       "array([0.24468647, 0.12035185])"
      ]
     },
     "execution_count": 7,
     "metadata": {},
     "output_type": "execute_result"
    }
   ],
   "source": [
    "# Fetch the explained variance\n",
    "pca.explained_variance_ratio_"
   ]
  },
  {
   "cell_type": "code",
   "execution_count": 8,
   "id": "4d95b833",
   "metadata": {},
   "outputs": [],
   "source": [
    "# Initialize PCA model for 3 principal components\n",
    "pca = PCA(n_components=3)\n",
    "\n",
    "# Get two principal components for the iris data.\n",
    "stroke_pca = pca.fit_transform(stroke_scaled)"
   ]
  },
  {
   "cell_type": "code",
   "execution_count": 17,
   "id": "36ac7cde",
   "metadata": {},
   "outputs": [
    {
     "data": {
      "text/html": [
       "<div>\n",
       "<style scoped>\n",
       "    .dataframe tbody tr th:only-of-type {\n",
       "        vertical-align: middle;\n",
       "    }\n",
       "\n",
       "    .dataframe tbody tr th {\n",
       "        vertical-align: top;\n",
       "    }\n",
       "\n",
       "    .dataframe thead th {\n",
       "        text-align: right;\n",
       "    }\n",
       "</style>\n",
       "<table border=\"1\" class=\"dataframe\">\n",
       "  <thead>\n",
       "    <tr style=\"text-align: right;\">\n",
       "      <th></th>\n",
       "      <th>principal component 1</th>\n",
       "      <th>principal component 2</th>\n",
       "      <th>principal component 3</th>\n",
       "    </tr>\n",
       "  </thead>\n",
       "  <tbody>\n",
       "    <tr>\n",
       "      <th>0</th>\n",
       "      <td>3.366829</td>\n",
       "      <td>5.062353</td>\n",
       "      <td>1.414369</td>\n",
       "    </tr>\n",
       "    <tr>\n",
       "      <th>1</th>\n",
       "      <td>3.112444</td>\n",
       "      <td>3.904107</td>\n",
       "      <td>-0.242392</td>\n",
       "    </tr>\n",
       "    <tr>\n",
       "      <th>2</th>\n",
       "      <td>2.344761</td>\n",
       "      <td>1.250854</td>\n",
       "      <td>1.809815</td>\n",
       "    </tr>\n",
       "    <tr>\n",
       "      <th>3</th>\n",
       "      <td>2.791735</td>\n",
       "      <td>3.318528</td>\n",
       "      <td>0.120899</td>\n",
       "    </tr>\n",
       "    <tr>\n",
       "      <th>4</th>\n",
       "      <td>2.270985</td>\n",
       "      <td>2.808796</td>\n",
       "      <td>1.480918</td>\n",
       "    </tr>\n",
       "  </tbody>\n",
       "</table>\n",
       "</div>"
      ],
      "text/plain": [
       "   principal component 1  principal component 2  principal component 3\n",
       "0               3.366829               5.062353               1.414369\n",
       "1               3.112444               3.904107              -0.242392\n",
       "2               2.344761               1.250854               1.809815\n",
       "3               2.791735               3.318528               0.120899\n",
       "4               2.270985               2.808796               1.480918"
      ]
     },
     "execution_count": 17,
     "metadata": {},
     "output_type": "execute_result"
    }
   ],
   "source": [
    "# Transform PCA data to a DataFrame\n",
    "stroke_df_pca = pd.DataFrame(\n",
    "    data=stroke_pca, columns=[\"principal component 1\", \"principal component 2\", \"principal component 3\"]\n",
    ")\n",
    "stroke_df_pca.head()"
   ]
  },
  {
   "cell_type": "code",
   "execution_count": 18,
   "id": "99770e21",
   "metadata": {},
   "outputs": [
    {
     "data": {
      "text/plain": [
       "array([0.24468647, 0.12035185, 0.09115323])"
      ]
     },
     "execution_count": 18,
     "metadata": {},
     "output_type": "execute_result"
    }
   ],
   "source": [
    "# Fetch the explained variance\n",
    "pca.explained_variance_ratio_"
   ]
  },
  {
   "cell_type": "markdown",
   "id": "d164783e",
   "metadata": {},
   "source": [
    "# Logistic Regression to fit\n"
   ]
  },
  {
   "cell_type": "code",
   "execution_count": null,
   "id": "7b8c8416",
   "metadata": {},
   "outputs": [],
   "source": [
    "y = df[\"Outcome\"]\n",
    "X = df.drop(columns=\"Outcome\")"
   ]
  },
  {
   "cell_type": "code",
   "execution_count": 13,
   "id": "4af3f642",
   "metadata": {},
   "outputs": [],
   "source": [
    "from sklearn.linear_model import LogisticRegression\n",
    "classifier = LogisticRegression(solver='lbfgs',\n",
    "                                max_iter=200,\n",
    "                                random_state=1)"
   ]
  },
  {
   "cell_type": "code",
   "execution_count": 14,
   "id": "2e0fb319",
   "metadata": {},
   "outputs": [
    {
     "ename": "NameError",
     "evalue": "name 'X_train' is not defined",
     "output_type": "error",
     "traceback": [
      "\u001b[0;31m---------------------------------------------------------------------------\u001b[0m",
      "\u001b[0;31mNameError\u001b[0m                                 Traceback (most recent call last)",
      "\u001b[0;32m/var/folders/r5/nh1zkdm5565_210959lysxv80000gn/T/ipykernel_4561/3959894982.py\u001b[0m in \u001b[0;36m<module>\u001b[0;34m\u001b[0m\n\u001b[0;32m----> 1\u001b[0;31m \u001b[0mclassifier\u001b[0m\u001b[0;34m.\u001b[0m\u001b[0mfit\u001b[0m\u001b[0;34m(\u001b[0m\u001b[0mX_train\u001b[0m\u001b[0;34m,\u001b[0m \u001b[0my_train\u001b[0m\u001b[0;34m)\u001b[0m\u001b[0;34m\u001b[0m\u001b[0;34m\u001b[0m\u001b[0m\n\u001b[0m",
      "\u001b[0;31mNameError\u001b[0m: name 'X_train' is not defined"
     ]
    }
   ],
   "source": [
    "classifier.fit(X_train, y_train)"
   ]
  },
  {
   "cell_type": "code",
   "execution_count": null,
   "id": "d4de9a63",
   "metadata": {},
   "outputs": [],
   "source": []
  }
 ],
 "metadata": {
  "kernelspec": {
   "display_name": "Python (mlenv)",
   "language": "python",
   "name": "mlenv"
  },
  "language_info": {
   "codemirror_mode": {
    "name": "ipython",
    "version": 3
   },
   "file_extension": ".py",
   "mimetype": "text/x-python",
   "name": "python",
   "nbconvert_exporter": "python",
   "pygments_lexer": "ipython3",
   "version": "3.7.11"
  }
 },
 "nbformat": 4,
 "nbformat_minor": 5
}
